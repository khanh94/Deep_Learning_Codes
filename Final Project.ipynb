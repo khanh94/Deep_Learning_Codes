{
 "cells": [
  {
   "cell_type": "code",
   "execution_count": 1,
   "metadata": {},
   "outputs": [
    {
     "name": "stderr",
     "output_type": "stream",
     "text": [
      "/usr/local/lib/python3.5/dist-packages/h5py/__init__.py:36: FutureWarning: Conversion of the second argument of issubdtype from `float` to `np.floating` is deprecated. In future, it will be treated as `np.float64 == np.dtype(float).type`.\n",
      "  from ._conv import register_converters as _register_converters\n"
     ]
    }
   ],
   "source": [
    "import numpy as np\n",
    "import tensorflow as tf\n",
    "import matplotlib.pyplot as plt"
   ]
  },
  {
   "cell_type": "code",
   "execution_count": 2,
   "metadata": {},
   "outputs": [],
   "source": [
    "import pickle\n",
    "# load the dataset into memory\n",
    "data_file = open(\"youtube_action_train_data_part1.pkl\", 'rb')\n",
    "data, labels = pickle.load(data_file)\n",
    "data_file.close()"
   ]
  },
  {
   "cell_type": "code",
   "execution_count": 3,
   "metadata": {},
   "outputs": [
    {
     "data": {
      "text/plain": [
       "(4000, 30, 64, 64, 3)"
      ]
     },
     "execution_count": 3,
     "metadata": {},
     "output_type": "execute_result"
    }
   ],
   "source": [
    "data.shape"
   ]
  },
  {
   "cell_type": "code",
   "execution_count": 4,
   "metadata": {},
   "outputs": [
    {
     "data": {
      "text/plain": [
       "(4000,)"
      ]
     },
     "execution_count": 4,
     "metadata": {},
     "output_type": "execute_result"
    }
   ],
   "source": [
    "labels.shape"
   ]
  },
  {
   "cell_type": "code",
   "execution_count": 5,
   "metadata": {},
   "outputs": [],
   "source": [
    "data = data/255.0"
   ]
  },
  {
   "cell_type": "code",
   "execution_count": 6,
   "metadata": {},
   "outputs": [
    {
     "data": {
      "text/plain": [
       "(2800, 30, 64, 64, 3)"
      ]
     },
     "execution_count": 6,
     "metadata": {},
     "output_type": "execute_result"
    }
   ],
   "source": [
    "train_data = data[0:2800,:,:,:,:]\n",
    "train_data.shape"
   ]
  },
  {
   "cell_type": "code",
   "execution_count": 7,
   "metadata": {},
   "outputs": [
    {
     "data": {
      "text/plain": [
       "(1200, 30, 64, 64, 3)"
      ]
     },
     "execution_count": 7,
     "metadata": {},
     "output_type": "execute_result"
    }
   ],
   "source": [
    "test_data = data[2800:,:,:,:,:]\n",
    "test_data.shape"
   ]
  },
  {
   "cell_type": "code",
   "execution_count": 8,
   "metadata": {},
   "outputs": [],
   "source": [
    "train_labels = labels[0:2800]\n",
    "test_labels = labels[2800:]"
   ]
  },
  {
   "cell_type": "code",
   "execution_count": 9,
   "metadata": {},
   "outputs": [],
   "source": [
    "#Placeholders\n",
    "X = tf.placeholder(shape=[None, 30, 64, 64, 3], dtype=tf.float32)\n",
    "Y_ = tf.placeholder(shape=[None], dtype=tf.int32)\n",
    "lr = tf.placeholder(dtype=tf.float32)"
   ]
  },
  {
   "cell_type": "code",
   "execution_count": 10,
   "metadata": {},
   "outputs": [
    {
     "data": {
      "text/plain": [
       "TensorShape([Dimension(None), Dimension(28), Dimension(29), Dimension(29), Dimension(32)])"
      ]
     },
     "execution_count": 10,
     "metadata": {},
     "output_type": "execute_result"
    }
   ],
   "source": [
    "#Construct the Convolutional Neural Network\n",
    "conv1 = tf.layers.conv3d(inputs=X, filters=32, kernel_size=[3,7,7], strides=(1, 1, 1), padding='valid', activation=tf.nn.relu)\n",
    "conv1.shape\n",
    "pool2 = tf.layers.max_pooling3d(inputs=conv1, pool_size=[1, 2, 2], strides=(1, 2, 2))\n",
    "pool2.shape"
   ]
  },
  {
   "cell_type": "code",
   "execution_count": 11,
   "metadata": {},
   "outputs": [
    {
     "data": {
      "text/plain": [
       "TensorShape([Dimension(None), Dimension(26), Dimension(23), Dimension(24), Dimension(32)])"
      ]
     },
     "execution_count": 11,
     "metadata": {},
     "output_type": "execute_result"
    }
   ],
   "source": [
    "conv2 = tf.layers.conv3d(inputs=pool2, filters=32, kernel_size=[3,7,6], strides=(1, 1, 1), padding='valid', activation=tf.nn.relu)\n",
    "conv2.shape"
   ]
  },
  {
   "cell_type": "code",
   "execution_count": 12,
   "metadata": {},
   "outputs": [
    {
     "data": {
      "text/plain": [
       "TensorShape([Dimension(None), Dimension(26), Dimension(11), Dimension(11), Dimension(32)])"
      ]
     },
     "execution_count": 12,
     "metadata": {},
     "output_type": "execute_result"
    }
   ],
   "source": [
    "pool3 = tf.layers.max_pooling3d(inputs=conv2, pool_size=[1, 3, 3], strides=(1, 2, 2))\n",
    "pool3.shape"
   ]
  },
  {
   "cell_type": "code",
   "execution_count": 13,
   "metadata": {},
   "outputs": [
    {
     "data": {
      "text/plain": [
       "TensorShape([Dimension(None), Dimension(26), Dimension(5), Dimension(8), Dimension(64)])"
      ]
     },
     "execution_count": 13,
     "metadata": {},
     "output_type": "execute_result"
    }
   ],
   "source": [
    "conv4 = tf.layers.conv3d(inputs=pool3, filters=64, kernel_size=[1,7,4], strides=(1, 1, 1), padding='valid', activation=tf.nn.relu)\n",
    "conv4.shape"
   ]
  },
  {
   "cell_type": "code",
   "execution_count": 14,
   "metadata": {},
   "outputs": [
    {
     "data": {
      "text/plain": [
       "TensorShape([Dimension(None), Dimension(24), Dimension(2), Dimension(2), Dimension(64)])"
      ]
     },
     "execution_count": 14,
     "metadata": {},
     "output_type": "execute_result"
    }
   ],
   "source": [
    "#pool5 = tf.layers.max_pooling3d(inputs=conv4, pool_size=[1, 2, 2], strides=(1, 2, 2))\n",
    "#pool5.shape"
   ]
  },
  {
   "cell_type": "code",
   "execution_count": 14,
   "metadata": {},
   "outputs": [
    {
     "data": {
      "text/plain": [
       "TensorShape([Dimension(None), Dimension(26), Dimension(2560)])"
      ]
     },
     "execution_count": 14,
     "metadata": {},
     "output_type": "execute_result"
    }
   ],
   "source": [
    "fully_connected = tf.reshape(conv4, (-1, 26, 2560))\n",
    "fully_connected.shape"
   ]
  },
  {
   "cell_type": "code",
   "execution_count": 15,
   "metadata": {},
   "outputs": [],
   "source": [
    "rnn_input = tf.layers.dense(inputs=fully_connected, units=128, activation=tf.nn.relu)"
   ]
  },
  {
   "cell_type": "code",
   "execution_count": 16,
   "metadata": {},
   "outputs": [],
   "source": [
    "num_units = 128\n",
    "lstm_cell = tf.nn.rnn_cell.LSTMCell(num_units)\n",
    "h_val, _ = tf.nn.dynamic_rnn(lstm_cell, rnn_input, dtype=tf.float32)"
   ]
  },
  {
   "cell_type": "code",
   "execution_count": 17,
   "metadata": {},
   "outputs": [],
   "source": [
    "#Feed the input to the RNN\n",
    "seq_length = 26\n",
    "final_output = tf.zeros(shape=[tf.shape(X)[0], 0, 30])\n",
    "w_fc = tf.Variable(tf.truncated_normal([num_units, 30], stddev=0.1), name='final_weight')\n",
    "b_fc = tf.Variable(tf.constant(0.1, tf.float32, [30]), name='last_bias')\n",
    "for i in np.arange(seq_length):\n",
    "    temp = tf.reshape(h_val[:, i, :], [-1, num_units])\n",
    "    output = tf.matmul(temp, w_fc) + b_fc\n",
    "    output = tf.reshape(output, [-1, 1, 30])\n",
    "    final_output = tf.concat([final_output, output], axis=1)"
   ]
  },
  {
   "cell_type": "code",
   "execution_count": 18,
   "metadata": {},
   "outputs": [
    {
     "data": {
      "text/plain": [
       "TensorShape([Dimension(None), Dimension(26), Dimension(30)])"
      ]
     },
     "execution_count": 18,
     "metadata": {},
     "output_type": "execute_result"
    }
   ],
   "source": [
    "final_output.shape"
   ]
  },
  {
   "cell_type": "code",
   "execution_count": 24,
   "metadata": {},
   "outputs": [
    {
     "data": {
      "text/plain": [
       "TensorShape([Dimension(None), Dimension(780)])"
      ]
     },
     "execution_count": 24,
     "metadata": {},
     "output_type": "execute_result"
    }
   ],
   "source": [
    "final_output = tf.reshape(final_output, (-1, 780))\n",
    "final_output.shape"
   ]
  },
  {
   "cell_type": "code",
   "execution_count": 26,
   "metadata": {},
   "outputs": [],
   "source": [
    "final_weight = tf.Variable(tf.truncated_normal([780, 11], stddev=0.1), name='final_weight')\n",
    "final_bias = tf.Variable(tf.constant(0.1, tf.float32, [11]), name='last_bias')\n",
    "Y_logits = tf.matmul(final_output, final_weight) + final_bias\n",
    "Y = tf.nn.softmax(Y_logits)"
   ]
  },
  {
   "cell_type": "code",
   "execution_count": 27,
   "metadata": {},
   "outputs": [
    {
     "data": {
      "text/plain": [
       "TensorShape([Dimension(None), Dimension(11)])"
      ]
     },
     "execution_count": 27,
     "metadata": {},
     "output_type": "execute_result"
    }
   ],
   "source": [
    "Y.shape"
   ]
  },
  {
   "cell_type": "code",
   "execution_count": 28,
   "metadata": {},
   "outputs": [
    {
     "name": "stdout",
     "output_type": "stream",
     "text": [
      "Tensor(\"SparseSoftmaxCrossEntropyWithLogits_1/SparseSoftmaxCrossEntropyWithLogits:0\", shape=(?,), dtype=float32)\n",
      "Tensor(\"Mean_2:0\", shape=(), dtype=float32)\n"
     ]
    }
   ],
   "source": [
    "#Training the model with L2 regularization and Adam optimizer for backpropagation\n",
    "beta = 0.001\n",
    "cross_entropy = tf.nn.sparse_softmax_cross_entropy_with_logits(logits=Y_logits, labels=Y_)\n",
    "print(cross_entropy)\n",
    "\n",
    "cross_entropy = tf.reduce_mean(cross_entropy)\n",
    "print(cross_entropy)\n",
    "# accuracy of the trained model, between 0 (worst) and 1 (best)\n",
    "\n",
    "correct_prediction = tf.equal(tf.cast(tf.argmax(Y, 1), dtype=tf.int32), Y_)\n",
    "accuracy = tf.reduce_mean(tf.cast(correct_prediction, tf.float32))\n",
    "predictions = tf.argmax(Y, 1)\n",
    "\n",
    "# training step, the learning rate is a placeholder\n",
    "train_step = tf.train.AdamOptimizer(lr).minimize(cross_entropy)"
   ]
  },
  {
   "cell_type": "code",
   "execution_count": 30,
   "metadata": {},
   "outputs": [
    {
     "name": "stdout",
     "output_type": "stream",
     "text": [
      "0: training accuracy:0.27 training loss: 2.2876673 (lr:0.0008)\n",
      "0: test accuracy:0.0 test loss: 2.5122561\n",
      "10: training accuracy:0.24 training loss: 1.5378703 (lr:0.0008)\n",
      "20: training accuracy:0.43 training loss: 1.485999 (lr:0.0008)\n",
      "20: test accuracy:0.0 test loss: 4.995012\n",
      "30: training accuracy:0.47 training loss: 1.3536519 (lr:0.0008)\n",
      "40: training accuracy:0.6 training loss: 1.0108052 (lr:0.0008)\n",
      "40: test accuracy:0.0 test loss: 5.6265745\n",
      "50: training accuracy:0.52 training loss: 1.1781634 (lr:0.0008)\n",
      "60: training accuracy:0.72 training loss: 0.8353901 (lr:0.0008)\n",
      "60: test accuracy:0.0 test loss: 4.7076206\n",
      "70: training accuracy:0.72 training loss: 0.7400185 (lr:0.0008)\n",
      "80: training accuracy:0.76 training loss: 0.79247093 (lr:0.0008)\n",
      "80: test accuracy:0.0 test loss: 5.08467\n",
      "90: training accuracy:0.78 training loss: 0.52361643 (lr:0.0008)\n",
      "100: training accuracy:0.85 training loss: 0.4890892 (lr:0.0008)\n",
      "100: test accuracy:0.05 test loss: 5.798319\n",
      "110: training accuracy:0.86 training loss: 0.39723685 (lr:0.0008)\n",
      "120: training accuracy:0.81 training loss: 0.5168164 (lr:0.0008)\n",
      "120: test accuracy:0.01 test loss: 5.1852846\n",
      "130: training accuracy:0.8 training loss: 0.51142293 (lr:0.0008)\n",
      "140: training accuracy:0.88 training loss: 0.40277326 (lr:0.0008)\n",
      "140: test accuracy:0.08 test loss: 5.3144712\n",
      "150: training accuracy:0.87 training loss: 0.29960474 (lr:0.0008)\n",
      "160: training accuracy:0.92 training loss: 0.2632116 (lr:0.0008)\n",
      "160: test accuracy:0.07 test loss: 5.6418567\n",
      "170: training accuracy:0.92 training loss: 0.17549513 (lr:0.0008)\n",
      "180: training accuracy:0.92 training loss: 0.15120123 (lr:0.0008)\n",
      "180: test accuracy:0.1 test loss: 6.0762935\n",
      "190: training accuracy:0.96 training loss: 0.12666294 (lr:0.0008)\n",
      "200: training accuracy:0.91 training loss: 0.22017758 (lr:0.0008)\n",
      "200: test accuracy:0.08 test loss: 6.5871234\n",
      "210: training accuracy:0.93 training loss: 0.18069553 (lr:0.0008)\n",
      "220: training accuracy:0.96 training loss: 0.15739143 (lr:0.0008)\n",
      "220: test accuracy:0.16 test loss: 5.960103\n",
      "230: training accuracy:0.94 training loss: 0.22210681 (lr:0.0008)\n",
      "240: training accuracy:0.96 training loss: 0.11400069 (lr:0.0008)\n",
      "240: test accuracy:0.06 test loss: 7.2353907\n",
      "250: training accuracy:0.95 training loss: 0.14131844 (lr:0.0008)\n",
      "260: training accuracy:0.97 training loss: 0.06340473 (lr:0.0008)\n",
      "260: test accuracy:0.13 test loss: 6.301143\n",
      "270: training accuracy:0.95 training loss: 0.12421332 (lr:0.0008)\n",
      "280: training accuracy:0.99 training loss: 0.050096914 (lr:0.0008)\n",
      "280: test accuracy:0.07 test loss: 6.941066\n",
      "290: training accuracy:0.98 training loss: 0.0630849 (lr:0.0008)\n",
      "300: training accuracy:0.99 training loss: 0.034436747 (lr:0.0008)\n",
      "300: test accuracy:0.23 test loss: 6.6564884\n",
      "310: training accuracy:0.98 training loss: 0.056079105 (lr:0.0008)\n",
      "320: training accuracy:1.0 training loss: 0.010056811 (lr:0.0008)\n",
      "320: test accuracy:0.21 test loss: 6.5588183\n",
      "330: training accuracy:1.0 training loss: 0.025022184 (lr:0.0008)\n",
      "340: training accuracy:0.99 training loss: 0.02340939 (lr:0.0008)\n",
      "340: test accuracy:0.17 test loss: 7.120775\n",
      "350: training accuracy:1.0 training loss: 0.0277489 (lr:0.0008)\n",
      "360: training accuracy:1.0 training loss: 0.0043316614 (lr:0.0008)\n",
      "360: test accuracy:0.13 test loss: 9.676765\n",
      "370: training accuracy:1.0 training loss: 0.014313375 (lr:0.0008)\n",
      "380: training accuracy:0.99 training loss: 0.030390272 (lr:0.0008)\n",
      "380: test accuracy:0.07 test loss: 9.873826\n",
      "390: training accuracy:1.0 training loss: 0.006512869 (lr:0.0008)\n",
      "400: training accuracy:1.0 training loss: 0.0017939366 (lr:0.0008)\n",
      "400: test accuracy:0.19 test loss: 8.894651\n",
      "410: training accuracy:1.0 training loss: 0.003475479 (lr:0.0008)\n",
      "420: training accuracy:0.99 training loss: 0.04387574 (lr:0.0008)\n",
      "420: test accuracy:0.25 test loss: 8.036364\n",
      "430: training accuracy:1.0 training loss: 0.00531924 (lr:0.0008)\n",
      "440: training accuracy:1.0 training loss: 0.004588259 (lr:0.0008)\n",
      "440: test accuracy:0.15 test loss: 8.668706\n",
      "450: training accuracy:0.98 training loss: 0.058891054 (lr:0.0008)\n",
      "460: training accuracy:0.98 training loss: 0.055357423 (lr:0.0008)\n",
      "460: test accuracy:0.19 test loss: 7.9630084\n",
      "470: training accuracy:1.0 training loss: 0.0064336634 (lr:0.0008)\n",
      "480: training accuracy:0.99 training loss: 0.029819712 (lr:0.0008)\n",
      "480: test accuracy:0.22 test loss: 8.3286495\n",
      "490: training accuracy:1.0 training loss: 0.0057774726 (lr:0.0008)\n",
      "500: training accuracy:0.94 training loss: 0.12913981 (lr:0.0008)\n",
      "500: test accuracy:0.19 test loss: 9.215155\n",
      "510: training accuracy:0.99 training loss: 0.027006198 (lr:0.0008)\n",
      "520: training accuracy:0.99 training loss: 0.06311848 (lr:0.0008)\n",
      "520: test accuracy:0.2 test loss: 8.247562\n",
      "530: training accuracy:0.99 training loss: 0.029124385 (lr:0.0008)\n",
      "540: training accuracy:1.0 training loss: 0.005177202 (lr:0.0008)\n",
      "540: test accuracy:0.15 test loss: 9.48226\n",
      "550: training accuracy:0.99 training loss: 0.025927799 (lr:0.0008)\n",
      "560: training accuracy:0.94 training loss: 0.24478707 (lr:0.0008)\n",
      "560: test accuracy:0.0 test loss: 12.836357\n",
      "570: training accuracy:0.97 training loss: 0.09611452 (lr:0.0008)\n",
      "580: training accuracy:0.99 training loss: 0.0171629 (lr:0.0008)\n",
      "580: test accuracy:0.22 test loss: 7.3103642\n",
      "590: training accuracy:1.0 training loss: 0.009365685 (lr:0.0008)\n",
      "600: training accuracy:0.99 training loss: 0.027111227 (lr:0.0008)\n",
      "600: test accuracy:0.1 test loss: 8.952634\n",
      "610: training accuracy:1.0 training loss: 0.007492515 (lr:0.0008)\n",
      "620: training accuracy:1.0 training loss: 0.0030530114 (lr:0.0008)\n",
      "620: test accuracy:0.16 test loss: 8.594227\n",
      "630: training accuracy:1.0 training loss: 0.0009755925 (lr:0.0008)\n",
      "640: training accuracy:1.0 training loss: 0.0009948214 (lr:0.0008)\n",
      "640: test accuracy:0.12 test loss: 9.839004\n",
      "650: training accuracy:1.0 training loss: 0.0012496036 (lr:0.0008)\n",
      "660: training accuracy:1.0 training loss: 0.0008494268 (lr:0.0008)\n",
      "660: test accuracy:0.21 test loss: 8.517353\n",
      "670: training accuracy:1.0 training loss: 0.0007884343 (lr:0.0008)\n",
      "680: training accuracy:1.0 training loss: 0.004992122 (lr:0.0008)\n",
      "680: test accuracy:0.2 test loss: 8.529713\n",
      "690: training accuracy:1.0 training loss: 0.0001856743 (lr:0.0008)\n",
      "700: training accuracy:1.0 training loss: 0.00030972436 (lr:0.0008)\n",
      "700: test accuracy:0.21 test loss: 9.273883\n",
      "710: training accuracy:1.0 training loss: 0.0001597704 (lr:0.0008)\n",
      "720: training accuracy:1.0 training loss: 0.00034137964 (lr:0.0008)\n",
      "720: test accuracy:0.14 test loss: 9.9482355\n",
      "730: training accuracy:1.0 training loss: 0.0006069291 (lr:0.0008)\n",
      "740: training accuracy:1.0 training loss: 0.00032440852 (lr:0.0008)\n",
      "740: test accuracy:0.2 test loss: 10.617008\n",
      "750: training accuracy:1.0 training loss: 0.00023685549 (lr:0.0008)\n",
      "760: training accuracy:1.0 training loss: 0.000145233 (lr:0.0008)\n",
      "760: test accuracy:0.26 test loss: 8.635685\n",
      "770: training accuracy:1.0 training loss: 0.00064147083 (lr:0.0008)\n",
      "780: training accuracy:1.0 training loss: 6.491845e-05 (lr:0.0008)\n",
      "780: test accuracy:0.13 test loss: 10.934269\n",
      "790: training accuracy:1.0 training loss: 0.00014873038 (lr:0.0008)\n",
      "800: training accuracy:1.0 training loss: 0.00025387364 (lr:0.0008)\n",
      "800: test accuracy:0.15 test loss: 10.558965\n",
      "810: training accuracy:1.0 training loss: 0.0001213804 (lr:0.0008)\n"
     ]
    },
    {
     "ename": "KeyboardInterrupt",
     "evalue": "",
     "output_type": "error",
     "traceback": [
      "\u001b[0;31m---------------------------------------------------------------------------\u001b[0m",
      "\u001b[0;31mKeyboardInterrupt\u001b[0m                         Traceback (most recent call last)",
      "\u001b[0;32m<ipython-input-30-7d9c7d14f7a4>\u001b[0m in \u001b[0;36m<module>\u001b[0;34m()\u001b[0m\n\u001b[1;32m     51\u001b[0m \u001b[0;34m\u001b[0m\u001b[0m\n\u001b[1;32m     52\u001b[0m     \u001b[0;31m# the backpropagation training step\u001b[0m\u001b[0;34m\u001b[0m\u001b[0;34m\u001b[0m\u001b[0m\n\u001b[0;32m---> 53\u001b[0;31m     \u001b[0msess\u001b[0m\u001b[0;34m.\u001b[0m\u001b[0mrun\u001b[0m\u001b[0;34m(\u001b[0m\u001b[0mtrain_step\u001b[0m\u001b[0;34m,\u001b[0m \u001b[0;34m{\u001b[0m\u001b[0mX\u001b[0m\u001b[0;34m:\u001b[0m \u001b[0mbatch_X\u001b[0m\u001b[0;34m,\u001b[0m \u001b[0mY_\u001b[0m\u001b[0;34m:\u001b[0m \u001b[0mbatch_Y\u001b[0m\u001b[0;34m,\u001b[0m \u001b[0mlr\u001b[0m\u001b[0;34m:\u001b[0m \u001b[0mlearning_rate\u001b[0m\u001b[0;34m}\u001b[0m\u001b[0;34m)\u001b[0m\u001b[0;34m\u001b[0m\u001b[0m\n\u001b[0m\u001b[1;32m     54\u001b[0m \u001b[0;34m\u001b[0m\u001b[0m\n\u001b[1;32m     55\u001b[0m     \u001b[0;32mif\u001b[0m \u001b[0mi\u001b[0m \u001b[0;34m%\u001b[0m \u001b[0;36m40\u001b[0m \u001b[0;34m==\u001b[0m \u001b[0;36m0\u001b[0m\u001b[0;34m:\u001b[0m\u001b[0;34m\u001b[0m\u001b[0m\n",
      "\u001b[0;32m/usr/local/lib/python3.5/dist-packages/tensorflow/python/client/session.py\u001b[0m in \u001b[0;36mrun\u001b[0;34m(self, fetches, feed_dict, options, run_metadata)\u001b[0m\n\u001b[1;32m    893\u001b[0m     \u001b[0;32mtry\u001b[0m\u001b[0;34m:\u001b[0m\u001b[0;34m\u001b[0m\u001b[0m\n\u001b[1;32m    894\u001b[0m       result = self._run(None, fetches, feed_dict, options_ptr,\n\u001b[0;32m--> 895\u001b[0;31m                          run_metadata_ptr)\n\u001b[0m\u001b[1;32m    896\u001b[0m       \u001b[0;32mif\u001b[0m \u001b[0mrun_metadata\u001b[0m\u001b[0;34m:\u001b[0m\u001b[0;34m\u001b[0m\u001b[0m\n\u001b[1;32m    897\u001b[0m         \u001b[0mproto_data\u001b[0m \u001b[0;34m=\u001b[0m \u001b[0mtf_session\u001b[0m\u001b[0;34m.\u001b[0m\u001b[0mTF_GetBuffer\u001b[0m\u001b[0;34m(\u001b[0m\u001b[0mrun_metadata_ptr\u001b[0m\u001b[0;34m)\u001b[0m\u001b[0;34m\u001b[0m\u001b[0m\n",
      "\u001b[0;32m/usr/local/lib/python3.5/dist-packages/tensorflow/python/client/session.py\u001b[0m in \u001b[0;36m_run\u001b[0;34m(self, handle, fetches, feed_dict, options, run_metadata)\u001b[0m\n\u001b[1;32m   1126\u001b[0m     \u001b[0;32mif\u001b[0m \u001b[0mfinal_fetches\u001b[0m \u001b[0;32mor\u001b[0m \u001b[0mfinal_targets\u001b[0m \u001b[0;32mor\u001b[0m \u001b[0;34m(\u001b[0m\u001b[0mhandle\u001b[0m \u001b[0;32mand\u001b[0m \u001b[0mfeed_dict_tensor\u001b[0m\u001b[0;34m)\u001b[0m\u001b[0;34m:\u001b[0m\u001b[0;34m\u001b[0m\u001b[0m\n\u001b[1;32m   1127\u001b[0m       results = self._do_run(handle, final_targets, final_fetches,\n\u001b[0;32m-> 1128\u001b[0;31m                              feed_dict_tensor, options, run_metadata)\n\u001b[0m\u001b[1;32m   1129\u001b[0m     \u001b[0;32melse\u001b[0m\u001b[0;34m:\u001b[0m\u001b[0;34m\u001b[0m\u001b[0m\n\u001b[1;32m   1130\u001b[0m       \u001b[0mresults\u001b[0m \u001b[0;34m=\u001b[0m \u001b[0;34m[\u001b[0m\u001b[0;34m]\u001b[0m\u001b[0;34m\u001b[0m\u001b[0m\n",
      "\u001b[0;32m/usr/local/lib/python3.5/dist-packages/tensorflow/python/client/session.py\u001b[0m in \u001b[0;36m_do_run\u001b[0;34m(self, handle, target_list, fetch_list, feed_dict, options, run_metadata)\u001b[0m\n\u001b[1;32m   1342\u001b[0m     \u001b[0;32mif\u001b[0m \u001b[0mhandle\u001b[0m \u001b[0;32mis\u001b[0m \u001b[0;32mNone\u001b[0m\u001b[0;34m:\u001b[0m\u001b[0;34m\u001b[0m\u001b[0m\n\u001b[1;32m   1343\u001b[0m       return self._do_call(_run_fn, self._session, feeds, fetches, targets,\n\u001b[0;32m-> 1344\u001b[0;31m                            options, run_metadata)\n\u001b[0m\u001b[1;32m   1345\u001b[0m     \u001b[0;32melse\u001b[0m\u001b[0;34m:\u001b[0m\u001b[0;34m\u001b[0m\u001b[0m\n\u001b[1;32m   1346\u001b[0m       \u001b[0;32mreturn\u001b[0m \u001b[0mself\u001b[0m\u001b[0;34m.\u001b[0m\u001b[0m_do_call\u001b[0m\u001b[0;34m(\u001b[0m\u001b[0m_prun_fn\u001b[0m\u001b[0;34m,\u001b[0m \u001b[0mself\u001b[0m\u001b[0;34m.\u001b[0m\u001b[0m_session\u001b[0m\u001b[0;34m,\u001b[0m \u001b[0mhandle\u001b[0m\u001b[0;34m,\u001b[0m \u001b[0mfeeds\u001b[0m\u001b[0;34m,\u001b[0m \u001b[0mfetches\u001b[0m\u001b[0;34m)\u001b[0m\u001b[0;34m\u001b[0m\u001b[0m\n",
      "\u001b[0;32m/usr/local/lib/python3.5/dist-packages/tensorflow/python/client/session.py\u001b[0m in \u001b[0;36m_do_call\u001b[0;34m(self, fn, *args)\u001b[0m\n\u001b[1;32m   1348\u001b[0m   \u001b[0;32mdef\u001b[0m \u001b[0m_do_call\u001b[0m\u001b[0;34m(\u001b[0m\u001b[0mself\u001b[0m\u001b[0;34m,\u001b[0m \u001b[0mfn\u001b[0m\u001b[0;34m,\u001b[0m \u001b[0;34m*\u001b[0m\u001b[0margs\u001b[0m\u001b[0;34m)\u001b[0m\u001b[0;34m:\u001b[0m\u001b[0;34m\u001b[0m\u001b[0m\n\u001b[1;32m   1349\u001b[0m     \u001b[0;32mtry\u001b[0m\u001b[0;34m:\u001b[0m\u001b[0;34m\u001b[0m\u001b[0m\n\u001b[0;32m-> 1350\u001b[0;31m       \u001b[0;32mreturn\u001b[0m \u001b[0mfn\u001b[0m\u001b[0;34m(\u001b[0m\u001b[0;34m*\u001b[0m\u001b[0margs\u001b[0m\u001b[0;34m)\u001b[0m\u001b[0;34m\u001b[0m\u001b[0m\n\u001b[0m\u001b[1;32m   1351\u001b[0m     \u001b[0;32mexcept\u001b[0m \u001b[0merrors\u001b[0m\u001b[0;34m.\u001b[0m\u001b[0mOpError\u001b[0m \u001b[0;32mas\u001b[0m \u001b[0me\u001b[0m\u001b[0;34m:\u001b[0m\u001b[0;34m\u001b[0m\u001b[0m\n\u001b[1;32m   1352\u001b[0m       \u001b[0mmessage\u001b[0m \u001b[0;34m=\u001b[0m \u001b[0mcompat\u001b[0m\u001b[0;34m.\u001b[0m\u001b[0mas_text\u001b[0m\u001b[0;34m(\u001b[0m\u001b[0me\u001b[0m\u001b[0;34m.\u001b[0m\u001b[0mmessage\u001b[0m\u001b[0;34m)\u001b[0m\u001b[0;34m\u001b[0m\u001b[0m\n",
      "\u001b[0;32m/usr/local/lib/python3.5/dist-packages/tensorflow/python/client/session.py\u001b[0m in \u001b[0;36m_run_fn\u001b[0;34m(session, feed_dict, fetch_list, target_list, options, run_metadata)\u001b[0m\n\u001b[1;32m   1327\u001b[0m           return tf_session.TF_Run(session, options,\n\u001b[1;32m   1328\u001b[0m                                    \u001b[0mfeed_dict\u001b[0m\u001b[0;34m,\u001b[0m \u001b[0mfetch_list\u001b[0m\u001b[0;34m,\u001b[0m \u001b[0mtarget_list\u001b[0m\u001b[0;34m,\u001b[0m\u001b[0;34m\u001b[0m\u001b[0m\n\u001b[0;32m-> 1329\u001b[0;31m                                    status, run_metadata)\n\u001b[0m\u001b[1;32m   1330\u001b[0m \u001b[0;34m\u001b[0m\u001b[0m\n\u001b[1;32m   1331\u001b[0m     \u001b[0;32mdef\u001b[0m \u001b[0m_prun_fn\u001b[0m\u001b[0;34m(\u001b[0m\u001b[0msession\u001b[0m\u001b[0;34m,\u001b[0m \u001b[0mhandle\u001b[0m\u001b[0;34m,\u001b[0m \u001b[0mfeed_dict\u001b[0m\u001b[0;34m,\u001b[0m \u001b[0mfetch_list\u001b[0m\u001b[0;34m)\u001b[0m\u001b[0;34m:\u001b[0m\u001b[0;34m\u001b[0m\u001b[0m\n",
      "\u001b[0;31mKeyboardInterrupt\u001b[0m: "
     ]
    }
   ],
   "source": [
    "#Get the relevant nodes and errors\n",
    "import math\n",
    "import numpy as np\n",
    "\n",
    "tf.get_collection(\"validation_nodes\")\n",
    "# Add stuff to the collection.\n",
    "tf.add_to_collection(\"validation_nodes\", X)\n",
    "tf.add_to_collection(\"validation_nodes\", Y)\n",
    "tf.add_to_collection(\"validation_nodes\", Y_)\n",
    "tf.add_to_collection(\"validation_nodes\", predictions)\n",
    "\n",
    "init = tf.global_variables_initializer()\n",
    "sess = tf.Session()\n",
    "sess.run(init)\n",
    "training_epochs = 2500\n",
    "learning_rate = 0.0008 \n",
    "\n",
    "#Get training error and losses\n",
    "training_error = []\n",
    "testing_error = []\n",
    "training_loss = []\n",
    "testing_loss = []\n",
    "for i in range(training_epochs):\n",
    "    indices = np.random.randint(train_data.shape[0],size = 100)\n",
    "    batch_X = train_data[indices]\n",
    "    batch_Y = train_labels[indices]\n",
    "\n",
    "    test_indices = np.random.randint(test_data.shape[0],size = 100)\n",
    "    test_batch_X = test_data[test_indices]\n",
    "    test_batch_Y = test_labels[test_indices]\n",
    "    # compute training values\n",
    "    if i % 10 == 0:\n",
    "        '''\n",
    "        When we sess.run here, we are calculating the accuracy and cross_entropy of the model on batch_X and batch_Y (ie. on 100 pieces of data)\n",
    "        '''\n",
    "        a, c= sess.run([accuracy, cross_entropy], {X: batch_X, Y_: batch_Y})\n",
    "        #temp = sess.run([correct_prediction], feed_dict={X: batch_X, Y_: batch_Y})\n",
    "        print(str(i) + \": training accuracy:\" + str(a) + \" training loss: \" + str(c) + \" (lr:\" + str(learning_rate) + \")\")\n",
    "        training_error.append(1 - a)\n",
    "        training_loss.append(c)\n",
    "        \n",
    "    # compute test values\n",
    "    if i % 20 == 0:\n",
    "        '''\n",
    "        When we sess.run here, we are calculating the accuracy and cross_entropy of the model on all of the data\n",
    "        '''\n",
    "        a, c= sess.run([accuracy, cross_entropy], {X: test_batch_X, Y_: test_batch_Y})\n",
    "        print(str(i) + \": test accuracy:\" + str(a) + \" test loss: \" + str(c))\n",
    "        testing_error.append(1 - a)\n",
    "        testing_loss.append(c)\n",
    "        \n",
    "    # the backpropagation training step\n",
    "    sess.run(train_step, {X: batch_X, Y_: batch_Y, lr: learning_rate})\n",
    "\n",
    "    if i % 40 == 0:\n",
    "        saver = tf.train.Saver()\n",
    "        save_path = saver.save(sess, \"models/my_model_\" + str(i))"
   ]
  },
  {
   "cell_type": "code",
   "execution_count": 31,
   "metadata": {},
   "outputs": [
    {
     "data": {
      "image/png": "[encoded data removed]",
      "text/plain": [
       "<matplotlib.figure.Figure at 0x7f175fc5d898>"
      ]
     },
     "metadata": {},
     "output_type": "display_data"
    }
   ],
   "source": [
    "#Plotting the training and testing losses\n",
    "plt.subplot(2,1,1)\n",
    "plt.plot(training_loss, '-o', label='Training_Loss')\n",
    "plt.title('Training Loss')\n",
    "plt.xlabel('Epoch')\n",
    "plt.ylabel('Loss')\n",
    "plt.legend(ncol=2, loc='upper right')\n",
    "plt.subplot(2,1,2)\n",
    "plt.plot(testing_loss, '-o', label='Testing_Loss')\n",
    "plt.title('Testing Loss')\n",
    "plt.xlabel('Epoch')\n",
    "plt.ylabel('Loss')\n",
    "plt.legend(ncol=2, loc='lower right')\n",
    "plt.gcf().set_size_inches(10, 10)\n",
    "plt.savefig('Training_and_testing_loss.png')"
   ]
  },
  {
   "cell_type": "code",
   "execution_count": 32,
   "metadata": {},
   "outputs": [
    {
     "data": {
      "image/png": "[encoded data removed]",
      "text/plain": [
       "<matplotlib.figure.Figure at 0x7f149d30a780>"
      ]
     },
     "metadata": {},
     "output_type": "display_data"
    }
   ],
   "source": [
    "#Plottting the error and loss curves\n",
    "import matplotlib.pyplot as plt\n",
    "plt.subplot(2,1,1)\n",
    "plt.plot(training_error, '-o', label='Training_Error')\n",
    "plt.title('Training Error')\n",
    "plt.xlabel('Epoch')\n",
    "plt.ylabel('Error')\n",
    "plt.legend(ncol=2, loc='upper right')\n",
    "plt.subplot(2,1,2)\n",
    "plt.plot(testing_error, '-o', label='Testing_Error')\n",
    "plt.title('Testing Error')\n",
    "plt.xlabel('Epoch')\n",
    "plt.ylabel('Error')\n",
    "plt.legend(ncol=2, loc='lower right')\n",
    "plt.gcf().set_size_inches(10, 10)\n",
    "plt.savefig('Training_and_testing_error.png')"
   ]
  },
  {
   "cell_type": "code",
   "execution_count": null,
   "metadata": {},
   "outputs": [],
   "source": []
  }
 ],
 "metadata": {
  "kernelspec": {
   "display_name": "Python 3",
   "language": "python",
   "name": "python3"
  },
  "language_info": {
   "codemirror_mode": {
    "name": "ipython",
    "version": 3
   },
   "file_extension": ".py",
   "mimetype": "text/x-python",
   "name": "python",
   "nbconvert_exporter": "python",
   "pygments_lexer": "ipython3",
   "version": "3.5.2"
  }
 },
 "nbformat": 4,
 "nbformat_minor": 2
}
