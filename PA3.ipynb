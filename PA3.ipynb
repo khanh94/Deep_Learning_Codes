{
 "cells": [
  {
   "cell_type": "code",
   "execution_count": 1,
   "metadata": {
    "collapsed": true
   },
   "outputs": [],
   "source": [
    "import sys\n",
    "for entry in sys.path:\n",
    "    if 'python2.7' in entry:\n",
    "        sys.path.remove(entry)"
   ]
  },
  {
   "cell_type": "code",
   "execution_count": 2,
   "metadata": {
    "collapsed": true
   },
   "outputs": [],
   "source": [
    "sys.path.remove('/usr/local/lib/python2.7/site-packages/mxnet-0.9.1-py2.7-macosx-10.11-x86_64.egg')"
   ]
  },
  {
   "cell_type": "code",
   "execution_count": 3,
   "metadata": {},
   "outputs": [
    {
     "data": {
      "text/plain": [
       "['',\n",
       " '/Applications/anaconda3/lib/python36.zip',\n",
       " '/Applications/anaconda3/lib/python3.6',\n",
       " '/Applications/anaconda3/lib/python3.6/lib-dynload',\n",
       " '/Users/khanh94/.local/lib/python3.6/site-packages',\n",
       " '/Applications/anaconda3/lib/python3.6/site-packages',\n",
       " '/Applications/anaconda3/lib/python3.6/site-packages/aeosa',\n",
       " '/Applications/anaconda3/lib/python3.6/site-packages/torchvision-0.1.9-py3.6.egg',\n",
       " '/Users/khanh94/.ipython']"
      ]
     },
     "execution_count": 3,
     "metadata": {},
     "output_type": "execute_result"
    }
   ],
   "source": [
    "sys.path"
   ]
  },
  {
   "cell_type": "code",
   "execution_count": 1,
   "metadata": {},
   "outputs": [
    {
     "name": "stderr",
     "output_type": "stream",
     "text": [
      "/Applications/anaconda3/lib/python3.5/importlib/_bootstrap.py:222: RuntimeWarning: compiletime version 3.6 of module 'tensorflow.python.framework.fast_tensor_util' does not match runtime version 3.5\n",
      "  return f(*args, **kwds)\n"
     ]
    },
    {
     "ename": "FileNotFoundError",
     "evalue": "[Errno 2] No such file or directory: 'cifar_10_tf_train_test.pkl'",
     "output_type": "error",
     "traceback": [
      "\u001b[0;31m---------------------------------------------------------------------------\u001b[0m",
      "\u001b[0;31mFileNotFoundError\u001b[0m                         Traceback (most recent call last)",
      "\u001b[0;32m<ipython-input-1-a4d09ad79484>\u001b[0m in \u001b[0;36m<module>\u001b[0;34m()\u001b[0m\n\u001b[1;32m      4\u001b[0m \u001b[0;34m\u001b[0m\u001b[0m\n\u001b[1;32m      5\u001b[0m \u001b[0;31m#Loading the image files\u001b[0m\u001b[0;34m\u001b[0m\u001b[0;34m\u001b[0m\u001b[0m\n\u001b[0;32m----> 6\u001b[0;31m \u001b[0mdata_file\u001b[0m \u001b[0;34m=\u001b[0m \u001b[0mopen\u001b[0m\u001b[0;34m(\u001b[0m\u001b[0;34m\"cifar_10_tf_train_test.pkl\"\u001b[0m\u001b[0;34m,\u001b[0m \u001b[0;34m\"rb\"\u001b[0m\u001b[0;34m)\u001b[0m\u001b[0;34m\u001b[0m\u001b[0m\n\u001b[0m\u001b[1;32m      7\u001b[0m \u001b[0mtrain_x\u001b[0m\u001b[0;34m,\u001b[0m \u001b[0mtrain_y\u001b[0m\u001b[0;34m,\u001b[0m \u001b[0mtest_x\u001b[0m\u001b[0;34m,\u001b[0m \u001b[0mtest_y\u001b[0m \u001b[0;34m=\u001b[0m \u001b[0mpickle\u001b[0m\u001b[0;34m.\u001b[0m\u001b[0mload\u001b[0m\u001b[0;34m(\u001b[0m\u001b[0mdata_file\u001b[0m\u001b[0;34m,\u001b[0m \u001b[0mencoding\u001b[0m\u001b[0;34m=\u001b[0m\u001b[0;34m'latin1'\u001b[0m\u001b[0;34m)\u001b[0m\u001b[0;34m\u001b[0m\u001b[0m\n\u001b[1;32m      8\u001b[0m \u001b[0mtrain_x\u001b[0m \u001b[0;34m=\u001b[0m \u001b[0;34m(\u001b[0m\u001b[0mtrain_x\u001b[0m \u001b[0;34m-\u001b[0m \u001b[0mnp\u001b[0m\u001b[0;34m.\u001b[0m\u001b[0mmean\u001b[0m\u001b[0;34m(\u001b[0m\u001b[0mtrain_x\u001b[0m\u001b[0;34m)\u001b[0m\u001b[0;34m)\u001b[0m \u001b[0;34m/\u001b[0m \u001b[0mnp\u001b[0m\u001b[0;34m.\u001b[0m\u001b[0mstd\u001b[0m\u001b[0;34m(\u001b[0m\u001b[0mtrain_x\u001b[0m\u001b[0;34m)\u001b[0m\u001b[0;34m\u001b[0m\u001b[0m\n",
      "\u001b[0;31mFileNotFoundError\u001b[0m: [Errno 2] No such file or directory: 'cifar_10_tf_train_test.pkl'"
     ]
    }
   ],
   "source": [
    "import pickle\n",
    "import numpy as np\n",
    "import tensorflow as tf\n",
    "\n",
    "#Loading the image files\n",
    "data_file = open(\"cifar_10_tf_train_test.pkl\", \"rb\")\n",
    "train_x, train_y, test_x, test_y = pickle.load(data_file, encoding='latin1')\n",
    "train_x = (train_x - np.mean(train_x)) / np.std(train_x)\n",
    "test_x = (test_x - np.mean(test_x)) / np.std(test_x)\n",
    "train_x = np.array(train_x)\n",
    "train_y = np.array(train_y)\n",
    "test_x = np.array(test_x)\n",
    "test_y = np.array(test_y)"
   ]
  },
  {
   "cell_type": "code",
   "execution_count": null,
   "metadata": {},
   "outputs": [],
   "source": [
    "#Getting the shape of the training tensors\n",
    "train_y.shape\n",
    "test_y.shape"
   ]
  },
  {
   "cell_type": "code",
   "execution_count": null,
   "metadata": {},
   "outputs": [],
   "source": [
    "#Getting the shape of the testing tensors\n",
    "test_x.shape\n",
    "test_y.shape"
   ]
  },
  {
   "cell_type": "code",
   "execution_count": null,
   "metadata": {},
   "outputs": [],
   "source": [
    "import tensorflow as tf"
   ]
  },
  {
   "cell_type": "code",
   "execution_count": null,
   "metadata": {},
   "outputs": [],
   "source": [
    "#Wrapper functions to implement the layers\n",
    "def weight_variable(shape, name):\n",
    "    initial = tf.truncated_normal(shape, stddev=0.1)\n",
    "    return tf.Variable(initial, name=name)\n",
    "\n",
    "def bias_variable(shape, name):\n",
    "    initial = tf.constant(0.1, shape=shape)\n",
    "    return tf.Variable(initial, name=name)\n",
    "\n",
    "def conv2d(x, W):\n",
    "    return tf.nn.conv2d(x, W, strides=[1, 1, 1, 1], padding='VALID')\n",
    "\n",
    "def max_pool_2x2(x):\n",
    "    return tf.nn.max_pool(x, ksize=[1, 2, 2, 1], strides=[1, 2, 2, 1], padding='VALID')"
   ]
  },
  {
   "cell_type": "code",
   "execution_count": null,
   "metadata": {},
   "outputs": [],
   "source": [
    "#Placeholders\n",
    "X = tf.placeholder(tf.float32, [None, 32, 32, 3], name='dataset')\n",
    "Y_ = tf.placeholder(tf.int32, [None])\n",
    "lr = tf.placeholder(tf.float32)"
   ]
  },
  {
   "cell_type": "code",
   "execution_count": null,
   "metadata": {},
   "outputs": [],
   "source": [
    "#First convolutional layer with max pooling\n",
    "w_conv1 = weight_variable([5, 5, 3, 32], 'weight1')\n",
    "b_conv1 = bias_variable([32], 'bias1')\n",
    "h_conv1 = tf.add(conv2d(X, w_conv1), b_conv1, name='pre_relu1')\n",
    "h_conv1 = tf.nn.relu(h_conv1)\n",
    "h_pool1 = max_pool_2x2(h_conv1)"
   ]
  },
  {
   "cell_type": "code",
   "execution_count": null,
   "metadata": {},
   "outputs": [],
   "source": [
    "h_pool1.shape"
   ]
  },
  {
   "cell_type": "code",
   "execution_count": null,
   "metadata": {},
   "outputs": [],
   "source": [
    "#Second convolutional layer with max pooling\n",
    "w_conv2 = weight_variable([5, 5, 32, 32], 'weight2')\n",
    "b_conv2 = bias_variable([32], 'bias2')\n",
    "h_conv2 = tf.add(conv2d(h_pool1, w_conv2), b_conv2, name='pre_relu2')\n",
    "h_conv2 = tf.nn.relu(h_conv2)\n",
    "h_conv2.shape\n",
    "h_pool2 = max_pool_2x2(h_conv2)\n",
    "h_pool2.shape"
   ]
  },
  {
   "cell_type": "code",
   "execution_count": null,
   "metadata": {},
   "outputs": [],
   "source": [
    "#Third convolutional layer with max pooling\n",
    "w_conv3 = weight_variable([3, 3, 32, 64], 'weight3')\n",
    "b_conv3 = bias_variable([64], 'bias3')\n",
    "h_conv3 = tf.add(conv2d(h_pool2, w_conv3), b_conv3, name='pre_relu3')"
   ]
  },
  {
   "cell_type": "code",
   "execution_count": null,
   "metadata": {},
   "outputs": [],
   "source": [
    "#Fully connected layer with softmax\n",
    "fully_connected = tf.contrib.layers.flatten(h_conv3)\n",
    "final_weight = tf.Variable(tf.truncated_normal([576, 10], stddev=0.1), name='final_weight')\n",
    "final_bias = tf.Variable(tf.constant(0.1, tf.float32, [10]), name='last_bias')\n",
    "Y_logits = tf.matmul(fully_connected, final_weight) + final_bias\n",
    "Y = tf.nn.softmax(Y_logits)"
   ]
  },
  {
   "cell_type": "code",
   "execution_count": null,
   "metadata": {},
   "outputs": [],
   "source": [
    "Y.shape\n",
    "# Y_.shape"
   ]
  },
  {
   "cell_type": "code",
   "execution_count": null,
   "metadata": {},
   "outputs": [],
   "source": [
    "#Training the model with L2 regularization and Adam optimizer for backpropagation\n",
    "beta = 0.001\n",
    "cross_entropy = tf.nn.sparse_softmax_cross_entropy_with_logits(logits=Y_logits, labels=Y_)\n",
    "print(cross_entropy)\n",
    "\n",
    "cross_entropy = tf.reduce_mean(cross_entropy) + beta*tf.nn.l2_loss(w_conv1) + beta*tf.nn.l2_loss(b_conv1) + beta\n",
    "*tf.nn.l2_loss(w_conv2) + beta*tf.nn.l2_loss(b_conv2) + beta*tf.nn.l2_loss(w_conv3)\n",
    "+ beta*tf.nn.l2_loss(b_conv3) + beta*tf.nn.l2_loss(final_weight) + beta*tf.nn.l2_loss(final_bias)\n",
    "\n",
    "print(cross_entropy)\n",
    "# accuracy of the trained model, between 0 (worst) and 1 (best)\n",
    "\n",
    "correct_prediction = tf.equal(tf.cast(tf.argmax(Y, 1), dtype=tf.int32), Y_)\n",
    "accuracy = tf.reduce_mean(tf.cast(correct_prediction, tf.float32))\n",
    "predictions = tf.argmax(Y, 1)\n",
    "\n",
    "# training step, the learning rate is a placeholder\n",
    "train_step = tf.train.AdamOptimizer(lr).minimize(cross_entropy)"
   ]
  },
  {
   "cell_type": "code",
   "execution_count": null,
   "metadata": {},
   "outputs": [],
   "source": [
    "accuracy"
   ]
  },
  {
   "cell_type": "code",
   "execution_count": null,
   "metadata": {},
   "outputs": [],
   "source": [
    "#Get the relevant nodes and errors\n",
    "import math\n",
    "import numpy as np\n",
    "\n",
    "tf.get_collection(\"validation_nodes\")\n",
    "# Add stuff to the collection.\n",
    "tf.add_to_collection(\"validation_nodes\", X)\n",
    "tf.add_to_collection(\"validation_nodes\", Y)\n",
    "tf.add_to_collection(\"validation_nodes\", Y_)\n",
    "tf.add_to_collection(\"validation_nodes\", predictions)\n",
    "\n",
    "init = tf.global_variables_initializer()\n",
    "sess = tf.Session()\n",
    "sess.run(init)\n",
    "training_epochs = 10000\n",
    "learning_rate = 0.0008 \n",
    "\n",
    "#Get training error and losses\n",
    "training_error = []\n",
    "testing_error = []\n",
    "training_loss = []\n",
    "testing_loss = []\n",
    "for i in range(training_epochs):\n",
    "    indices = np.random.randint(train_x.shape[0],size = 128)\n",
    "    batch_X = train_x[indices]\n",
    "    batch_Y = train_y[indices]\n",
    "    # compute training values\n",
    "    if i % 100 == 0:\n",
    "        '''\n",
    "        When we sess.run here, we are calculating the accuracy and cross_entropy of the model on batch_X and batch_Y (ie. on 100 pieces of data)\n",
    "        '''\n",
    "        a, c= sess.run([accuracy, cross_entropy], {X: batch_X, Y_: batch_Y})\n",
    "        #temp = sess.run([correct_prediction], feed_dict={X: batch_X, Y_: batch_Y})\n",
    "        print(str(i) + \": training accuracy:\" + str(a) + \" training loss: \" + str(c) + \" (lr:\" + str(learning_rate) + \")\")\n",
    "        training_error.append(1 - a)\n",
    "        training_loss.append(c)\n",
    "        \n",
    "    # compute test values\n",
    "    if i % 200 == 0:\n",
    "        '''\n",
    "        When we sess.run here, we are calculating the accuracy and cross_entropy of the model on all of the data\n",
    "        '''\n",
    "        a, c= sess.run([accuracy, cross_entropy], {X: test_x, Y_: test_y})\n",
    "        print(str(i) + \": test accuracy:\" + str(a) + \" test loss: \" + str(c))\n",
    "        testing_error.append(1 - a)\n",
    "        testing_loss.append(c)\n",
    "        \n",
    "    # the backpropagation training step\n",
    "    sess.run(train_step, {X: batch_X, Y_: batch_Y, lr: learning_rate})\n",
    "\n",
    "    if i % 1000 == 0:\n",
    "        saver = tf.train.Saver()\n",
    "        save_path = saver.save(sess, \"/Users/khanh94/Downloads/my_model_\" + str(i))"
   ]
  },
  {
   "cell_type": "code",
   "execution_count": null,
   "metadata": {},
   "outputs": [],
   "source": [
    "#Visualization for the filter\n",
    "from PIL import Image\n",
    "new_saver = tf.train.import_meta_graph('my_model_9000.meta')\n",
    "new_saver.restore(sess,tf.train.latest_checkpoint('./'))\n",
    "\n",
    "    # define layer name and number of filters\n",
    "layer = 'pre_relu1'\n",
    "\n",
    "    # start with a gray image with a little noise\n",
    "img_noise = np.random.uniform(size=(1,32,32,3)) + 100.0\n",
    "sess.run(tf.global_variables_initializer())\n",
    "\n",
    "def showarray(a, fmt='jpeg'):\n",
    "    a = np.uint8(np.clip(a, 0, 1)*255)\n",
    "    img = Image.fromarray(a, 'RGB')\n",
    "    img.save('my.png')\n",
    "    img.show()\n",
    "\n",
    "def visstd(a, s=0.1):\n",
    "    '''Normalize the image range for visualization'''\n",
    "    return (a-a.mean())/max(a.std(), 1e-4)*s + 0.5\n",
    "\n",
    "def T(layer):\n",
    "    '''Helper for getting layer output tensor'''\n",
    "    return tf.get_default_graph().get_tensor_by_name(\"{}:0\".format(layer))\n",
    "\n",
    "def render_naive(t_obj, img0=img_noise, iter_n=20, step=1.0):\n",
    "    X = T('dataset')\n",
    "    t_score = tf.reduce_mean(t_obj) # defining the optimization objective\n",
    "    t_grad = tf.gradients(t_score, X)[0] # behold the power of automatic differentiation!\n",
    "\n",
    "    img = img0.copy()\n",
    "    for i in range(iter_n):\n",
    "        g, score = sess.run([t_grad, t_score], {X:img})\n",
    "        # normalizing the gradient, so the same step size should work \n",
    "        g /= g.std()+1e-8         # for different layers and networks\n",
    "        img += g*step\n",
    "    return np.squeeze(visstd(img), axis=0)\n",
    "\n",
    "filter_imgs = []\n",
    "for channel in range(32):\n",
    "    filter_img = render_naive(T(layer)[:,:,:,channel])\n",
    "    filter_imgs.append(filter_img)\n",
    "filter_collage = [np.concatenate(filter_imgs[i:i+4], axis=0) for i in range(8)]\n",
    "filter_collage = np.concatenate(filter_collage,axis=1)\n",
    "filter_collage.shape\n",
    "print(\"I passed \",filter_collage.shape)\n",
    "showarray(filter_collage)\n",
    "import matplotlib.pyplot as plt\n",
    "plt.imshow('collage',filter_collage)\n",
    "plt.waitKey(0)\n",
    "plt.destroyAllWindows()"
   ]
  },
  {
   "cell_type": "code",
   "execution_count": null,
   "metadata": {},
   "outputs": [],
   "source": [
    "#Plottting the error and loss curves\n",
    "import matplotlib.pyplot as plt\n",
    "plt.subplot(2,1,1)\n",
    "plt.plot(training_error, '-o', label='Training_Error')\n",
    "plt.title('Training Error')\n",
    "plt.xlabel('Epoch')\n",
    "plt.ylabel('Error')\n",
    "plt.legend(ncol=2, loc='upper right')\n",
    "plt.subplot(2,1,2)\n",
    "plt.plot(testing_error, '-o', label='Testing_Error')\n",
    "plt.title('Testing Error')\n",
    "plt.xlabel('Epoch')\n",
    "plt.ylabel('Error')\n",
    "plt.legend(ncol=2, loc='lower right')\n",
    "plt.gcf().set_size_inches(10, 10)\n",
    "plt.savefig('Training_and_testing_error.png')"
   ]
  },
  {
   "cell_type": "code",
   "execution_count": null,
   "metadata": {},
   "outputs": [],
   "source": [
    "#Plotting the training and testing losses\n",
    "plt.subplot(2,1,1)\n",
    "plt.plot(training_loss, '-o', label='Training_Loss')\n",
    "plt.title('Training Loss')\n",
    "plt.xlabel('Epoch')\n",
    "plt.ylabel('Loss')\n",
    "plt.legend(ncol=2, loc='upper right')\n",
    "plt.subplot(2,1,2)\n",
    "plt.plot(testing_loss, '-o', label='Testing_Loss')\n",
    "plt.title('Testing Loss')\n",
    "plt.xlabel('Epoch')\n",
    "plt.ylabel('Loss')\n",
    "plt.legend(ncol=2, loc='lower right')\n",
    "plt.gcf().set_size_inches(10, 10)\n",
    "plt.savefig('Training_and_testing_loss.png')"
   ]
  },
  {
   "cell_type": "code",
   "execution_count": null,
   "metadata": {},
   "outputs": [],
   "source": [
    "indices = np.random.randint(train_x.shape[0],size = 50)"
   ]
  },
  {
   "cell_type": "code",
   "execution_count": null,
   "metadata": {},
   "outputs": [],
   "source": [
    "indices"
   ]
  },
  {
   "cell_type": "code",
   "execution_count": null,
   "metadata": {},
   "outputs": [],
   "source": [
    "train_x[indices,:].shape"
   ]
  },
  {
   "cell_type": "code",
   "execution_count": null,
   "metadata": {},
   "outputs": [],
   "source": [
    "type(train_x)"
   ]
  },
  {
   "cell_type": "code",
   "execution_count": null,
   "metadata": {},
   "outputs": [],
   "source": [
    "train_x.shape[0]"
   ]
  },
  {
   "cell_type": "code",
   "execution_count": null,
   "metadata": {},
   "outputs": [],
   "source": [
    "np.array(train_x)[indices,:].shape"
   ]
  },
  {
   "cell_type": "code",
   "execution_count": null,
   "metadata": {},
   "outputs": [],
   "source": [
    "train_y.shape"
   ]
  },
  {
   "cell_type": "code",
   "execution_count": null,
   "metadata": {},
   "outputs": [],
   "source": [
    "np.array(train_y)[indices].shape"
   ]
  },
  {
   "cell_type": "code",
   "execution_count": null,
   "metadata": {},
   "outputs": [],
   "source": [
    "test_y.shape"
   ]
  },
  {
   "cell_type": "code",
   "execution_count": null,
   "metadata": {},
   "outputs": [],
   "source": [
    "batch_Y.shape"
   ]
  },
  {
   "cell_type": "code",
   "execution_count": null,
   "metadata": {},
   "outputs": [],
   "source": [
    "train_y[indices].shape"
   ]
  },
  {
   "cell_type": "code",
   "execution_count": null,
   "metadata": {},
   "outputs": [],
   "source": [
    "pwd"
   ]
  },
  {
   "cell_type": "code",
   "execution_count": null,
   "metadata": {},
   "outputs": [],
   "source": []
  }
 ],
 "metadata": {
  "kernelspec": {
   "display_name": "Python 3",
   "language": "python",
   "name": "python3"
  },
  "language_info": {
   "codemirror_mode": {
    "name": "ipython",
    "version": 3
   },
   "file_extension": ".py",
   "mimetype": "text/x-python",
   "name": "python",
   "nbconvert_exporter": "python",
   "pygments_lexer": "ipython3",
   "version": "3.5.5"
  }
 },
 "nbformat": 4,
 "nbformat_minor": 2
}
