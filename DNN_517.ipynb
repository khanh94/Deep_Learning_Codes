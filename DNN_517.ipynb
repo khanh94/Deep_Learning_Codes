{
 "cells": [
  {
   "cell_type": "markdown",
   "metadata": {},
   "source": [
    "![MolHack](https://kaggle2.blob.core.windows.net/competitions/kaggle/8378/logos/header.png?t=2018-02-01-09-53-26)"
   ]
  },
  {
   "cell_type": "markdown",
   "metadata": {},
   "source": [
    "***About us***\n",
    "\n",
    "**Insilico Medicine**\n",
    "![logo](data:image/png;base64,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)\n",
    "\n",
    "Insilico Medicine is a leading company in the field of Deep Learning for Drug Discovery. It was chosen by NVIDIA in top5 AI companies for social impact in 2017 and by CBInsights in top100 most promising private artificial intelligence companies in the world for 2018. \n",
    "\n",
    " Besides business Insilico Medicine publish a lot:\n",
    "1. The cornucopia of meaningful leads: Applying deep adversarial autoencoders for new molecule development in oncology. [link]\n",
    "2. druGAN: An Advanced Generative Adversarial Autoencoder Model for de Novo Generation of New Molecules with Desired Molecular Properties in Silico.\n",
    "3. Deep Learning Applications for Predicting Pharmacological Properties of Drugs and Drug Repurposing Using Transcriptomic Data.\n",
    "4. Deep biomarkers of human aging: Application of deep neural networks to biomarker development.\n"
   ]
  },
  {
   "cell_type": "markdown",
   "metadata": {},
   "source": [
    "***Introduction***"
   ]
  },
  {
   "cell_type": "markdown",
   "metadata": {},
   "source": [
    "**RDKit**\n",
    "![RDKitlogo](http://www.rdkit.org/Images/logo.png)"
   ]
  },
  {
   "cell_type": "markdown",
   "metadata": {},
   "source": [
    "RDKit - is a collection of cheminformatics and machine-learning software written in C++ and Python. \n",
    "\n",
    "It can be easily installed by using Anaconda (the recommended way) or from source.\n",
    "\n",
    "\n",
    "Helpful introduction to RDKit can be found [here](http://www.rdkit.org/docs/GettingStartedInPython.html). Unfortunately, RDKit is a weakly documented package, so you'll have to google a lot."
   ]
  },
  {
   "cell_type": "markdown",
   "metadata": {},
   "source": [
    "**SMILES**\n"
   ]
  },
  {
   "cell_type": "markdown",
   "metadata": {},
   "source": [
    "[SMILES](https://en.wikipedia.org/wiki/Simplified_molecular-input_line-entry_system) (simplified molecular-input line-entry system) - is a string describing the structure of a chemical molecule. It doesn't contain any information about molecule 3D structure, but can be easily generated by Neural Networks\n",
    "\n",
    "There is no strong need to fully understand their syntax because most chemical packages can read this form of representation. But, excellent explanations can be found by following this links - [video1](https://www.youtube.com/watch?v=kPSyI7DaBZA) and\n",
    "[video2](https://www.youtube.com/watch?v=ZpVYoccNzEs)\n",
    "![smilespng](https://www.researchgate.net/profile/Flemming_Jorgensen3/publication/8018882/figure/fig2/AS:299695877443585@1448464473177/Fig-2-Structural-information-for-a-molecule-can-be-given-as-a-1D-SMILES-string-a-2D.png)"
   ]
  },
  {
   "cell_type": "markdown",
   "metadata": {},
   "source": [
    "**MACCS**"
   ]
  },
  {
   "cell_type": "markdown",
   "metadata": {},
   "source": [
    "A few approaches exist to represent molecule structure and properties in a bit string format (called molecular fingerprint). You can read more about them in https://www.ncbi.nlm.nih.gov/pubmed/26558489. One of such methods is called MACCS. It is implemented in RDKit"
   ]
  },
  {
   "cell_type": "markdown",
   "metadata": {},
   "source": [
    "**Conformers and pharmacophores**"
   ]
  },
  {
   "cell_type": "markdown",
   "metadata": {},
   "source": [
    " A pharmacophore is defined as a set of 3D points with special properties. For example, one point may specify that some hydrophobic part of a molecule must be in proximity to this point. \n",
    " ![pharmacophore](https://www.dovepress.com/cr_data/article_fulltext/s46000/46843/img/fig2.jpg)\n",
    " \n",
    " We say that a molecule fits a pharmacophore if this molecule satisfies all constraints, induced by the pharmacophore. To test this, we have to test its different 3D <a href=\"https://en.wikipedia.org/wiki/Conformational_isomerism\">conformations</a>, i.e. shapes. \n",
    " \n",
    " There are a few approaches for generating a diverse set of conformations, given the optimal one, we have used chemical package [OpenBabel](http://openbabel.org/wiki/Main_Page) to produce conformers while computing our train dataset, but there a lot of our software for solving that task. For more details, you can read [this article](http://csmres.co.uk/cs.public.upd/article-downloads/2010-2011_2.pdf).\n"
   ]
  },
  {
   "cell_type": "markdown",
   "metadata": {},
   "source": [
    "**OpenBabel**\n",
    "![openbabel logo](http://openbabel.org/babel256.png)"
   ]
  },
  {
   "cell_type": "markdown",
   "metadata": {},
   "source": [
    "Open Babel is a chemical toolbox designed to work with different molecules formats. It has bindings with python, but they have almost no documentation, so we recommend to use it from the command line. It was used to generate conformers during datasets calculation. More info about the way, you can create conformers for molecule by OpenBabel can be found [here](http://open-babel.readthedocs.io/en/latest/3DStructureGen/multipleconformers.html).\n",
    "\n",
    "It can be installed by Anaconda or from source code"
   ]
  },
  {
   "cell_type": "markdown",
   "metadata": {},
   "source": [
    "**Align-It**"
   ]
  },
  {
   "cell_type": "markdown",
   "metadata": {},
   "source": [
    "For pharmacophore search during dataset preparation, this program has been used. You can find all info about program functionality and installation instructions from this [link](http://silicos-it.be.s3-website-eu-west-1.amazonaws.com/software/align-it/1.0.4/align-it.html#alignit-generating-pharmacophore-points)"
   ]
  },
  {
   "cell_type": "markdown",
   "metadata": {},
   "source": [
    "Here we are loading some modules for future work"
   ]
  },
  {
   "cell_type": "code",
   "execution_count": 6,
   "metadata": {
    "collapsed": true
   },
   "outputs": [],
   "source": [
    "import numpy as np\n",
    "import lightgbm as lgb\n",
    "import pandas as pd\n",
    "import tensorflow as tf"
   ]
  },
  {
   "cell_type": "markdown",
   "metadata": {},
   "source": [
    "Here you can find some useful code for reading the output of Align-It program (PHAR format). The CSV format also exists in dataset files"
   ]
  },
  {
   "cell_type": "code",
   "execution_count": 18,
   "metadata": {
    "collapsed": true
   },
   "outputs": [],
   "source": [
    "class PharmacophoreException(Exception):\n",
    "    pass\n",
    "\n",
    "class PharmacophoreFileEndException(PharmacophoreException):\n",
    "    pass\n",
    "\n",
    "class PharmacophorePoint(object):\n",
    "    def __init__(self, code, cx, cy, cz, alpha, norm, nx, ny, nz):\n",
    "        self.code = code\n",
    "        self.cx = float(cx)\n",
    "        self.cy = float(cy)\n",
    "        self.cz = float(cz)\n",
    "        self.alpha = float(alpha)\n",
    "        self.norm = int(norm)\n",
    "        self.nx = float(nx)\n",
    "        self.ny = float(ny)\n",
    "        self.nz = float(nz)\n",
    "    \n",
    "    @classmethod\n",
    "    def from_line(cls, line):\n",
    "        return cls(*line.split())\n",
    "    \n",
    "    def to_line(self):\n",
    "        return \"{} {} {} {} {} {} {} {} {}\".format(self.code, self.cx, self.cy, self.cz, self.alpha, self.norm,\\\n",
    "                                                self.nx, self.ny, self.nz)\n",
    "    \n",
    "    def __str__(self):\n",
    "        return self.to_line()\n",
    "        \n",
    "    \n",
    "    \n",
    "class Pharmacophore(object):\n",
    "    def __init__(self, name, points):\n",
    "        self.name = name\n",
    "        self.points = points\n",
    "        \n",
    "    @classmethod\n",
    "    def from_stream(cls, stream):\n",
    "        name = stream.readline().strip()\n",
    "        points = []\n",
    "        line = stream.readline().strip()\n",
    "        if not line:\n",
    "            raise PharmacophoreFileEndException(\"End of file\")\n",
    "            \n",
    "        while line != \"$$$$\" or not line:\n",
    "            points.append(PharmacophorePoint.from_line(line))\n",
    "            line = stream.readline().strip()\n",
    "            \n",
    "        if not line:\n",
    "            raise PharmacophoreException(\"Wrong format, no end line\")\n",
    "        return cls(name, points)\n",
    "    \n",
    "    @classmethod\n",
    "    def from_file(cls, file_path):\n",
    "        with open(file_path) as fd:\n",
    "            return cls.from_stream(fd)\n",
    "            \n",
    "    def write_to_stream(self, stream):\n",
    "        stream.write(\"{}\\n\".format(self.name))\n",
    "        for point in self.points:\n",
    "            stream.write(\"{}\\n\".format(point.to_line()))\n",
    "        stream.write(\"$$$$\\n\".format(self.name))\n",
    "            \n",
    "    def write_to_file(self, file_path):\n",
    "        with open(file_path, \"w\") as fd:\n",
    "            self.write_to_stream(fd)\n",
    "            \n",
    "    def __str__(self):\n",
    "        return  \"{}\\n{}\\n$$$$\".format(self.name,\n",
    "                                      \"\\n\".join(str(x) for x in self.points))\n",
    "    \n",
    "    def __len__(self):\n",
    "        return len(self.points)\n",
    "    \n",
    "    def sample(self, name, n):\n",
    "        points = sample(self.points, min(n, len(self)))\n",
    "        return Pharmacophore(name, points)\n",
    "\n",
    "class PharmDatabaseException(Exception):\n",
    "    pass\n",
    "\n",
    "\n",
    "def calc_pharmacophore(lig_path, ph_path):\n",
    "    proc = Popen(\n",
    "        \"align-it --dbase {} --pharmacophore {}\".format(lig_path, ph_path),\n",
    "        shell=True,\n",
    "        stdout=PIPE, stderr=PIPE)\n",
    "    _ = proc.communicate()\n",
    "    \n",
    "\n",
    "class PharmDatabase(object):\n",
    "    def __init__(self, path_to_ligands, path_to_ph_db, is_calculated=False):\n",
    "        self.path_to_ligands = path_to_ligands\n",
    "        self.path_to_ph_db = path_to_ph_db\n",
    "        self.is_calculated = is_calculated\n",
    "    \n",
    "    def repair_database(self):\n",
    "        pass\n",
    "    \n",
    "    def calc_database(self):\n",
    "        if not self.path_to_ph_db:\n",
    "            self.calc_pharmacophore(self.path_to_ligands, self.path_to_ph_db)\n",
    "\n",
    "    \n",
    "    def sample_database(self):\n",
    "        pass\n",
    "    \n",
    "    def iter_database(self):\n",
    "        if not self.is_calculated:\n",
    "            raise PharmDatabaseException(\"Not calculated\")\n",
    "        with open(self.path_to_ph_db, 'r') as fd:\n",
    "            while True:\n",
    "                try:\n",
    "                    pharmacophore = Pharmacophore.from_stream(fd)\n",
    "                    yield pharmacophore\n",
    "                except PharmacophoreFileEndException:\n",
    "                    break\n",
    "    "
   ]
  },
  {
   "cell_type": "markdown",
   "metadata": {},
   "source": [
    "Basic code for converting molecule from smiles to MACCS. By default, size of MACCS bit string is 167"
   ]
  },
  {
   "cell_type": "code",
   "execution_count": 19,
   "metadata": {
    "collapsed": true
   },
   "outputs": [],
   "source": [
    "from rdkit import Chem\n",
    "from rdkit.Chem import MACCSkeys\n",
    "def smi_to_maccs(smi):\n",
    "    mol = Chem.MolFromSmiles(smi)\n",
    "    if mol is not None:\n",
    "        return np.array(MACCSkeys.GenMACCSKeys(mol))\n",
    "    else:\n",
    "        return np.zeros(MACCS_SIZE)\n",
    "    \n",
    "MACCS_SIZE = 167"
   ]
  },
  {
   "cell_type": "code",
   "execution_count": 20,
   "metadata": {
    "collapsed": true
   },
   "outputs": [],
   "source": [
    "PATH_TO_TRAIN_SMILES = \"train_smiles.csv\"\n",
    "PATH_TO_TEST_SMILES = \"test1_smiles.csv\""
   ]
  },
  {
   "cell_type": "code",
   "execution_count": 21,
   "metadata": {
    "collapsed": true
   },
   "outputs": [],
   "source": [
    "test_smiles = pd.read_csv(PATH_TO_TEST_SMILES)['smiles']\n",
    "train_smiles = pd.read_csv(PATH_TO_TRAIN_SMILES)['smiles']\n",
    "\n",
    "PHARM_TRAIN_SMILES = np.zeros((train_smiles.shape[0], MACCS_SIZE), dtype=np.int8)\n",
    "PHARM_TEST_SMILES = np.zeros((test_smiles.shape[0], MACCS_SIZE), dtype=np.int8)"
   ]
  },
  {
   "cell_type": "code",
   "execution_count": 28,
   "metadata": {
    "collapsed": true
   },
   "outputs": [],
   "source": [
    "for ind, smi in enumerate(train_smiles):\n",
    "    PHARM_TRAIN_SMILES[ind] = smi_to_maccs(smi)\n",
    "for ind, smi in enumerate(test_smiles):\n",
    "    PHARM_TEST_SMILES[ind] = smi_to_maccs(smi)"
   ]
  },
  {
   "cell_type": "code",
   "execution_count": 29,
   "metadata": {
    "collapsed": true
   },
   "outputs": [],
   "source": [
    "np.save(\"PHARM_TRAIN_SMILES.npy\", PHARM_TRAIN_SMILES)\n",
    "np.save(\"PHARM_TEST_SMILES.npy\", PHARM_TEST_SMILES)"
   ]
  },
  {
   "cell_type": "code",
   "execution_count": 22,
   "metadata": {
    "collapsed": true
   },
   "outputs": [],
   "source": [
    "PHARM_TRAIN_SMILES = np.load(\"PHARM_TRAIN_SMILES.npy\")\n",
    "PHARM_TEST_SMILES = np.load(\"PHARM_TEST_SMILES.npy\")"
   ]
  },
  {
   "cell_type": "markdown",
   "metadata": {},
   "source": [
    "Now we are downloading train and test pharmacophores files for our dataset. While here we use PHAR format, using by Align-It, CSV format for train and test datasets is also provided"
   ]
  },
  {
   "cell_type": "code",
   "execution_count": 23,
   "metadata": {
    "collapsed": true
   },
   "outputs": [],
   "source": [
    "PH_TRAIN_PATH = \"train_pharmacophores.phar\"\n",
    "PH_TEST_PATH = \"test1_pharmacophores.phar\"\n",
    "train_sample_pharmacophor_db = PharmDatabase(path_to_ligands=None, \n",
    "                                       path_to_ph_db=PH_TRAIN_PATH, \n",
    "                                       is_calculated=True)\n",
    "test_sample_pharmacophor_db = PharmDatabase(path_to_ligands=None, \n",
    "                                       path_to_ph_db=PH_TEST_PATH, \n",
    "                                       is_calculated=True)"
   ]
  },
  {
   "cell_type": "code",
   "execution_count": 24,
   "metadata": {
    "collapsed": true
   },
   "outputs": [],
   "source": [
    "train_pharmacophores = [p for p in train_sample_pharmacophor_db.iter_database()]\n",
    "test_pharmacophores = [p for p in test_sample_pharmacophor_db.iter_database()]"
   ]
  },
  {
   "cell_type": "markdown",
   "metadata": {},
   "source": [
    "So, now we have to encode our pharmacophores somehow. The easiest way (not the smartest one) is to count the occurrence of each type of point in the pharmacophore and store this information as a vector"
   ]
  },
  {
   "cell_type": "code",
   "execution_count": 25,
   "metadata": {
    "collapsed": true
   },
   "outputs": [],
   "source": [
    "MAPPING = {\"AROM\" : 0,\n",
    "\"HDON\" : 1,\n",
    "\"HACC\" : 2,\n",
    "\"LIPO\" : 3,\n",
    "\"POSC\" : 4,\n",
    "\"NEGC\" : 5,\n",
    "\"HYBH\" : 6,\n",
    "\"HYBL\" : 7,\n",
    "\"EXCL\": 8}\n",
    "\n",
    "def phar_to_bins(phar):\n",
    "    v = np.zeros(len(MAPPING))\n",
    "    for p in phar.points:\n",
    "        v[MAPPING[p.code]] += 1\n",
    "    return v"
   ]
  },
  {
   "cell_type": "code",
   "execution_count": 34,
   "metadata": {
    "collapsed": true
   },
   "outputs": [],
   "source": [
    "PHARM_TRAIN_X = np.zeros( (len(train_pharmacophores), len(MAPPING)), dtype=np.int8)\n",
    "for ind, i in enumerate(train_pharmacophores):\n",
    "    PHARM_TRAIN_X[ind] = phar_to_bins(i)\n",
    "        \n",
    "        \n",
    "PHARM_TEST_X = np.zeros( (len(test_pharmacophores), len(MAPPING)), dtype=np.int8)\n",
    "for ind, i in enumerate(test_pharmacophores):\n",
    "    PHARM_TEST_X[ind] = phar_to_bins(i)"
   ]
  },
  {
   "cell_type": "code",
   "execution_count": 35,
   "metadata": {
    "collapsed": true
   },
   "outputs": [],
   "source": [
    "np.save(\"PHARM_TRAIN_X.npy\", PHARM_TRAIN_X)\n",
    "np.save(\"PHARM_TEST_X.npy\", PHARM_TEST_X)"
   ]
  },
  {
   "cell_type": "code",
   "execution_count": 26,
   "metadata": {
    "collapsed": true
   },
   "outputs": [],
   "source": [
    "PHARM_TRAIN_X = np.load(\"PHARM_TRAIN_X.npy\")\n",
    "PHARM_TEST_X = np.load(\"PHARM_TEST_X.npy\")"
   ]
  },
  {
   "cell_type": "markdown",
   "metadata": {},
   "source": [
    "Here we join info about pharmacopores and ligands in simple matrix. To avoid memory error,  only a part of train data is used"
   ]
  },
  {
   "cell_type": "code",
   "execution_count": 27,
   "metadata": {
    "collapsed": true
   },
   "outputs": [],
   "source": [
    "np.random.seed(731)\n",
    "train_pharmacophore_indices = np.random.choice(len(train_pharmacophores), size=1000, replace=False)\n",
    "train_ligands_indices = np.random.choice(len(train_smiles), size=1000, replace=False)\n",
    "np.random.seed(731)"
   ]
  },
  {
   "cell_type": "code",
   "execution_count": 38,
   "metadata": {
    "collapsed": true
   },
   "outputs": [],
   "source": [
    "Y_train_full = np.zeros(len(train_pharmacophores) * len(train_smiles), dtype=np.int8)\n",
    "ind = 0\n",
    "with open(\"train_info.csv\") as in_file:\n",
    "    in_file.readline()\n",
    "    for line in in_file:\n",
    "        Y_train_full[ind] = int(line.strip().split(\",\")[1])\n",
    "        ind += 1"
   ]
  },
  {
   "cell_type": "code",
   "execution_count": 39,
   "metadata": {
    "collapsed": true
   },
   "outputs": [],
   "source": [
    "np.save(\"Y_train.npy\", Y_train_full)"
   ]
  },
  {
   "cell_type": "code",
   "execution_count": 28,
   "metadata": {
    "collapsed": true
   },
   "outputs": [],
   "source": [
    "Y_train_full = np.load(\"Y_train.npy\")"
   ]
  },
  {
   "cell_type": "code",
   "execution_count": 29,
   "metadata": {
    "collapsed": true
   },
   "outputs": [],
   "source": [
    "X_train = np.zeros( (train_pharmacophore_indices.shape[0] * train_ligands_indices.shape[0],\n",
    "            PHARM_TRAIN_X[0].shape[0] + MACCS_SIZE),  dtype=np.int8)\n",
    "Y_train = np.zeros(train_pharmacophore_indices.shape[0] * train_ligands_indices.shape[0],  dtype=np.int8)"
   ]
  },
  {
   "cell_type": "code",
   "execution_count": 30,
   "metadata": {},
   "outputs": [
    {
     "data": {
      "text/plain": [
       "176000112"
      ]
     },
     "execution_count": 30,
     "metadata": {},
     "output_type": "execute_result"
    }
   ],
   "source": [
    "import sys\n",
    "sys.getsizeof(X_train)"
   ]
  },
  {
   "cell_type": "code",
   "execution_count": 31,
   "metadata": {
    "collapsed": true
   },
   "outputs": [],
   "source": [
    "for li, lig_id in enumerate(train_ligands_indices):\n",
    "    for pi, p_ind in enumerate(train_pharmacophore_indices):\n",
    "        x_ind = lig_id * len(train_pharmacophores) + p_ind\n",
    "        xi = li * train_pharmacophore_indices.shape[0] + pi\n",
    "        X_train[xi, :len(MAPPING)] = PHARM_TRAIN_X[p_ind]\n",
    "        X_train[xi, len(MAPPING):] = PHARM_TRAIN_SMILES[lig_id]\n",
    "        Y_train[xi] = Y_train_full[x_ind] "
   ]
  },
  {
   "cell_type": "markdown",
   "metadata": {},
   "source": [
    "Train classifier and predict values for batches of test dataset to avoid storing all X_test matrix in memory"
   ]
  },
  {
   "cell_type": "code",
   "execution_count": 44,
   "metadata": {
    "collapsed": true
   },
   "outputs": [],
   "source": [
    "classifier = lgb.LGBMClassifier(n_jobs=-1).fit(X_train, Y_train)"
   ]
  },
  {
   "cell_type": "code",
   "execution_count": null,
   "metadata": {},
   "outputs": [],
   "source": []
  },
  {
   "cell_type": "code",
   "execution_count": 75,
   "metadata": {},
   "outputs": [],
   "source": [
    "# Get Random Batches\n",
    "def get_random_batch(data, label, batch_size):\n",
    "    random_index = np.random.randint(data.shape[0], size=batch_size)\n",
    "    data_out = data[random_index,:]\n",
    "    label_out = label[random_index]\n",
    "    return data_out, label_out"
   ]
  },
  {
   "cell_type": "code",
   "execution_count": 105,
   "metadata": {},
   "outputs": [],
   "source": [
    "# Parameters\n",
    "batch_size = 100000\n",
    "epochs = 2000\n",
    "learning_rate = 0.01\n",
    "x_features = 176\n",
    "nodes_layer1 = 100\n",
    "nodes_layer2 = 100\n",
    "nodes_layer3 = 100\n",
    "nodes_output_layer = 10"
   ]
  },
  {
   "cell_type": "code",
   "execution_count": 108,
   "metadata": {},
   "outputs": [],
   "source": [
    "# tf Graph input\n",
    "x = tf.placeholder(shape=[None, x_features], dtype=tf.float32)\n",
    "y = tf.placeholder(shape=[None], dtype=tf.int64)"
   ]
  },
  {
   "cell_type": "code",
   "execution_count": 109,
   "metadata": {},
   "outputs": [],
   "source": [
    "# Hidden Layers\n",
    "dnn_layer1 = tf.layers.dense(inputs=x,\n",
    "                             units=nodes_layer1, \n",
    "                             kernel_initializer=tf.contrib.layers.xavier_initializer()\n",
    "                            )\n",
    "dnn_layer2 = tf.layers.dense(inputs=dnn_layer1,\n",
    "                             units=nodes_layer2, \n",
    "                             kernel_initializer=tf.contrib.layers.xavier_initializer()\n",
    "                            )\n",
    "dnn_output_layer = tf.layers.dense(inputs=dnn_layer2,\n",
    "                             units=nodes_output_layer, \n",
    "                             kernel_initializer=tf.contrib.layers.xavier_initializer()\n",
    "                            )"
   ]
  },
  {
   "cell_type": "code",
   "execution_count": 110,
   "metadata": {},
   "outputs": [],
   "source": [
    "# Loss\n",
    "cross_entropy = tf.nn.sparse_softmax_cross_entropy_with_logits(logits=dnn_output_layer, labels=y)\n",
    "loss = tf.reduce_mean(cross_entropy)\n",
    "\n",
    "# Optimizer\n",
    "optimizer = tf.train.AdamOptimizer(learning_rate=learning_rate).minimize(loss)"
   ]
  },
  {
   "cell_type": "code",
   "execution_count": 111,
   "metadata": {},
   "outputs": [
    {
     "ename": "NameError",
     "evalue": "name 'classifier' is not defined",
     "output_type": "error",
     "traceback": [
      "\u001b[0;31m---------------------------------------------------------------------------\u001b[0m",
      "\u001b[0;31mNameError\u001b[0m                                 Traceback (most recent call last)",
      "\u001b[0;32m<ipython-input-111-60d21d9ef7fc>\u001b[0m in \u001b[0;36m<module>\u001b[0;34m()\u001b[0m\n\u001b[1;32m     13\u001b[0m         \u001b[0;32mif\u001b[0m \u001b[0mind\u001b[0m \u001b[0;34m==\u001b[0m \u001b[0mbatch_size\u001b[0m\u001b[0;34m:\u001b[0m\u001b[0;34m\u001b[0m\u001b[0m\n\u001b[1;32m     14\u001b[0m             \u001b[0mind\u001b[0m \u001b[0;34m=\u001b[0m \u001b[0;36m0\u001b[0m\u001b[0;34m\u001b[0m\u001b[0m\n\u001b[0;32m---> 15\u001b[0;31m             \u001b[0mY_test\u001b[0m\u001b[0;34m[\u001b[0m\u001b[0mglob_ind\u001b[0m\u001b[0;34m-\u001b[0m\u001b[0mbatch_size\u001b[0m\u001b[0;34m:\u001b[0m\u001b[0mglob_ind\u001b[0m\u001b[0;34m]\u001b[0m \u001b[0;34m=\u001b[0m \u001b[0mclassifier\u001b[0m\u001b[0;34m.\u001b[0m\u001b[0mpredict\u001b[0m\u001b[0;34m(\u001b[0m\u001b[0mX_batch\u001b[0m\u001b[0;34m)\u001b[0m\u001b[0;34m\u001b[0m\u001b[0m\n\u001b[0m",
      "\u001b[0;31mNameError\u001b[0m: name 'classifier' is not defined"
     ]
    }
   ],
   "source": [
    "batch_size = 10000\n",
    "Y_test = np.zeros(len(test_smiles) * len(test_pharmacophores), dtype=np.int32)\n",
    "X_batch = np.zeros ((batch_size, PHARM_TRAIN_X[0].shape[0] + MACCS_SIZE), dtype=np.int32)\n",
    "\n",
    "ind = 0\n",
    "glob_ind = 0\n",
    "for lig_id in range(len(test_smiles)):\n",
    "    for p_id in range(len(test_pharmacophores)):\n",
    "        X_batch[ind, :len(MAPPING)] = PHARM_TEST_X[p_id]\n",
    "        X_batch[ind, len(MAPPING):] = PHARM_TEST_SMILES[p_id]\n",
    "        ind += 1\n",
    "        glob_ind += 1\n",
    "        if ind == batch_size:\n",
    "            ind = 0\n",
    "            Y_test[glob_ind-batch_size:glob_ind] = classifier.predict(X_batch)"
   ]
  },
  {
   "cell_type": "code",
   "execution_count": 112,
   "metadata": {},
   "outputs": [
    {
     "name": "stdout",
     "output_type": "stream",
     "text": [
      "2.8651516\n",
      "2.6652484\n",
      "4.527\n",
      "3.895402\n",
      "3.3917\n",
      "3.1073978\n",
      "2.7595727\n",
      "2.170091\n",
      "2.105452\n",
      "2.146904\n",
      "2.070532\n",
      "1.8938453\n",
      "1.8771315\n",
      "2.0785117\n",
      "1.944932\n",
      "1.8580766\n",
      "1.811225\n",
      "1.7656566\n",
      "1.7770966\n",
      "1.7598497\n",
      "1.7371656\n",
      "1.7443542\n",
      "1.7663226\n",
      "1.7276468\n",
      "1.6629457\n",
      "1.6253605\n",
      "1.6350394\n",
      "1.654341\n",
      "1.6581988\n",
      "1.623525\n",
      "1.6112705\n",
      "1.6008589\n",
      "1.5916594\n",
      "1.6025292\n",
      "1.5854164\n",
      "1.568731\n",
      "1.5682617\n",
      "1.55138\n",
      "1.5640682\n",
      "1.5586575\n",
      "1.5580642\n",
      "1.5589551\n",
      "1.5595287\n",
      "1.5432842\n",
      "1.5240194\n",
      "1.5405691\n",
      "1.5239311\n",
      "1.5196793\n",
      "1.5252521\n",
      "1.5236787\n",
      "1.5185846\n",
      "1.520454\n",
      "1.5258359\n",
      "1.5173241\n",
      "1.5113662\n",
      "1.5356436\n",
      "1.5061954\n",
      "1.517286\n",
      "1.5431392\n",
      "1.5082092\n",
      "1.5070997\n",
      "1.5215759\n",
      "1.5133259\n",
      "1.5085355\n",
      "1.5154537\n",
      "1.5120254\n",
      "1.5036688\n",
      "1.5203633\n",
      "1.5067674\n",
      "1.5062802\n",
      "1.490394\n",
      "1.5091513\n",
      "1.4996616\n",
      "1.5114486\n",
      "1.4954873\n",
      "1.4934518\n",
      "1.4980588\n",
      "1.5181229\n",
      "1.4905629\n",
      "1.5241684\n",
      "1.5105504\n",
      "1.4993299\n",
      "1.5131055\n",
      "1.5075135\n",
      "1.5095005\n",
      "1.4962226\n",
      "1.5114613\n",
      "1.5040755\n",
      "1.5053684\n",
      "1.4977748\n",
      "1.5037652\n",
      "1.5122516\n",
      "1.5081936\n",
      "1.5031832\n",
      "1.5099728\n",
      "1.504438\n",
      "1.4964676\n",
      "1.5091053\n",
      "1.5079006\n",
      "1.4949578\n"
     ]
    },
    {
     "ename": "NameError",
     "evalue": "name 'test_predict' is not defined",
     "output_type": "error",
     "traceback": [
      "\u001b[0;31m---------------------------------------------------------------------------\u001b[0m",
      "\u001b[0;31mNameError\u001b[0m                                 Traceback (most recent call last)",
      "\u001b[0;32m<ipython-input-112-e9102101b750>\u001b[0m in \u001b[0;36m<module>\u001b[0;34m()\u001b[0m\n\u001b[1;32m     29\u001b[0m                         \u001b[0mind\u001b[0m \u001b[0;34m=\u001b[0m \u001b[0;36m0\u001b[0m\u001b[0;34m\u001b[0m\u001b[0m\n\u001b[1;32m     30\u001b[0m                         \u001b[0mtestPredict\u001b[0m \u001b[0;34m=\u001b[0m \u001b[0msess\u001b[0m\u001b[0;34m.\u001b[0m\u001b[0mrun\u001b[0m\u001b[0;34m(\u001b[0m\u001b[0mdnn_output_layer\u001b[0m\u001b[0;34m,\u001b[0m \u001b[0mfeed_dict\u001b[0m \u001b[0;34m=\u001b[0m \u001b[0;34m{\u001b[0m\u001b[0mx\u001b[0m\u001b[0;34m:\u001b[0m \u001b[0mX_batch\u001b[0m\u001b[0;34m}\u001b[0m\u001b[0;34m)\u001b[0m\u001b[0;34m\u001b[0m\u001b[0m\n\u001b[0;32m---> 31\u001b[0;31m                         \u001b[0mY_test\u001b[0m\u001b[0;34m[\u001b[0m\u001b[0mglob_ind\u001b[0m\u001b[0;34m-\u001b[0m\u001b[0mbatch_size\u001b[0m\u001b[0;34m:\u001b[0m\u001b[0mglob_ind\u001b[0m\u001b[0;34m]\u001b[0m \u001b[0;34m=\u001b[0m \u001b[0mtest_predict\u001b[0m\u001b[0;34m\u001b[0m\u001b[0m\n\u001b[0m\u001b[1;32m     32\u001b[0m \u001b[0;34m\u001b[0m\u001b[0m\n",
      "\u001b[0;31mNameError\u001b[0m: name 'test_predict' is not defined"
     ]
    }
   ],
   "source": [
    "# Define tensorflow session\n",
    "with tf.Session() as sess:\n",
    "    sess.run(tf.global_variables_initializer())\n",
    "    \n",
    "    # Run number of iterations\n",
    "    for e in range(0, epochs):\n",
    "        \n",
    "        # Get Batches\n",
    "        train_data_batch, train_labels_batch = get_random_batch(X_train, Y_train, batch_size)\n",
    "\n",
    "        # Train each batch\n",
    "        _, trainLoss = sess.run([optimizer, loss], feed_dict = {x: train_data_batch, y: train_labels_batch})\n",
    "        print(trainLoss)\n",
    "        \n",
    "        if (e+1)%100==0:\n",
    "            batch_size = 10000\n",
    "            Y_test = np.zeros(len(test_smiles) * len(test_pharmacophores), dtype=np.int32)\n",
    "            X_batch = np.zeros ((batch_size, PHARM_TRAIN_X[0].shape[0] + MACCS_SIZE), dtype=np.int32)\n",
    "\n",
    "            ind = 0\n",
    "            glob_ind = 0\n",
    "            for lig_id in range(len(test_smiles)):\n",
    "                for p_id in range(len(test_pharmacophores)):\n",
    "                    X_batch[ind, :len(MAPPING)] = PHARM_TEST_X[p_id]\n",
    "                    X_batch[ind, len(MAPPING):] = PHARM_TEST_SMILES[p_id]\n",
    "                    ind += 1\n",
    "                    glob_ind += 1\n",
    "                    if ind == batch_size:\n",
    "                        ind = 0\n",
    "                        testPredict = sess.run(dnn_output_layer, feed_dict = {x: X_batch})\n",
    "                        Y_test[glob_ind-batch_size:glob_ind] = testPredict\n",
    "        "
   ]
  },
  {
   "cell_type": "code",
   "execution_count": 45,
   "metadata": {
    "collapsed": true
   },
   "outputs": [],
   "source": []
  },
  {
   "cell_type": "markdown",
   "metadata": {},
   "source": [
    "Now let's make a submission"
   ]
  },
  {
   "cell_type": "code",
   "execution_count": 46,
   "metadata": {
    "collapsed": true
   },
   "outputs": [],
   "source": [
    "with open(\"submission.csv\", \"w\") as out_file:\n",
    "    out_file.write(\"ligid_pharmid,score\\n\")\n",
    "    for ligind in range(len(test_smiles)):\n",
    "        for pind in range(len(test_pharmacophores)):\n",
    "            global_ind = ligind * len(test_pharmacophores)  + pind\n",
    "            out_file.write(\"{},{}\\n\".format(global_ind, int(Y_test[global_ind])))"
   ]
  },
  {
   "cell_type": "code",
   "execution_count": null,
   "metadata": {},
   "outputs": [],
   "source": []
  }
 ],
 "metadata": {
  "kernelspec": {
   "display_name": "Python 3",
   "language": "python",
   "name": "python3"
  },
  "language_info": {
   "codemirror_mode": {
    "name": "ipython",
    "version": 3
   },
   "file_extension": ".py",
   "mimetype": "text/x-python",
   "name": "python",
   "nbconvert_exporter": "python",
   "pygments_lexer": "ipython3",
   "version": "3.6.4"
  }
 },
 "nbformat": 4,
 "nbformat_minor": 2
}
