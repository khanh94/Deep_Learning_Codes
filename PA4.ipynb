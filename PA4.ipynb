{
 "cells": [
  {
   "cell_type": "code",
   "execution_count": 3,
   "metadata": {},
   "outputs": [],
   "source": [
    "import sys\n",
    "for entry in sys.path:\n",
    "    if 'python2.7' in entry:\n",
    "        sys.path.remove(entry)"
   ]
  },
  {
   "cell_type": "code",
   "execution_count": 4,
   "metadata": {},
   "outputs": [
    {
     "name": "stderr",
     "output_type": "stream",
     "text": [
      "/Applications/anaconda3/lib/python3.6/importlib/_bootstrap.py:219: RuntimeWarning: compiletime version 3.5 of module 'tensorflow.python.framework.fast_tensor_util' does not match runtime version 3.6\n",
      "  return f(*args, **kwds)\n"
     ]
    }
   ],
   "source": [
    "import numpy as np\n",
    "import tensorflow as tf\n",
    "import matplotlib.pyplot as plt"
   ]
  },
  {
   "cell_type": "code",
   "execution_count": 1,
   "metadata": {},
   "outputs": [
    {
     "name": "stdout",
     "output_type": "stream",
     "text": [
      "/Users/khanh94/Downloads/youtube_action_train_data\n"
     ]
    }
   ],
   "source": [
    "cd youtube_action_train_data"
   ]
  },
  {
   "cell_type": "code",
   "execution_count": 2,
   "metadata": {},
   "outputs": [
    {
     "ename": "FileNotFoundError",
     "evalue": "[Errno 2] No such file or directory: 'youtube_action_train_data_part1.pkl'",
     "output_type": "error",
     "traceback": [
      "\u001b[0;31m---------------------------------------------------------------------------\u001b[0m",
      "\u001b[0;31mFileNotFoundError\u001b[0m                         Traceback (most recent call last)",
      "\u001b[0;32m<ipython-input-2-2afb3d949b4f>\u001b[0m in \u001b[0;36m<module>\u001b[0;34m()\u001b[0m\n\u001b[1;32m     19\u001b[0m \u001b[0;31m## read\u001b[0m\u001b[0;34m\u001b[0m\u001b[0;34m\u001b[0m\u001b[0m\n\u001b[1;32m     20\u001b[0m \u001b[0mtrain_data\u001b[0m \u001b[0;34m=\u001b[0m \u001b[0mbytearray\u001b[0m\u001b[0;34m(\u001b[0m\u001b[0;36m0\u001b[0m\u001b[0;34m)\u001b[0m\u001b[0;34m\u001b[0m\u001b[0m\n\u001b[0;32m---> 21\u001b[0;31m \u001b[0minput_size\u001b[0m \u001b[0;34m=\u001b[0m \u001b[0mos\u001b[0m\u001b[0;34m.\u001b[0m\u001b[0mpath\u001b[0m\u001b[0;34m.\u001b[0m\u001b[0mgetsize\u001b[0m\u001b[0;34m(\u001b[0m\u001b[0mtrain_data_file\u001b[0m\u001b[0;34m)\u001b[0m\u001b[0;34m\u001b[0m\u001b[0m\n\u001b[0m\u001b[1;32m     22\u001b[0m \u001b[0;32mwith\u001b[0m \u001b[0mopen\u001b[0m\u001b[0;34m(\u001b[0m\u001b[0mtrain_data_file\u001b[0m\u001b[0;34m,\u001b[0m \u001b[0;34m'rb'\u001b[0m\u001b[0;34m)\u001b[0m \u001b[0;32mas\u001b[0m \u001b[0mf_in\u001b[0m\u001b[0;34m:\u001b[0m\u001b[0;34m\u001b[0m\u001b[0m\n\u001b[1;32m     23\u001b[0m     \u001b[0;32mfor\u001b[0m \u001b[0m_\u001b[0m \u001b[0;32min\u001b[0m \u001b[0mrange\u001b[0m\u001b[0;34m(\u001b[0m\u001b[0;36m0\u001b[0m\u001b[0;34m,\u001b[0m \u001b[0minput_size\u001b[0m\u001b[0;34m,\u001b[0m \u001b[0mmax_bytes\u001b[0m\u001b[0;34m)\u001b[0m\u001b[0;34m:\u001b[0m\u001b[0;34m\u001b[0m\u001b[0m\n",
      "\u001b[0;32m/Applications/anaconda3/lib/python3.6/genericpath.py\u001b[0m in \u001b[0;36mgetsize\u001b[0;34m(filename)\u001b[0m\n\u001b[1;32m     48\u001b[0m \u001b[0;32mdef\u001b[0m \u001b[0mgetsize\u001b[0m\u001b[0;34m(\u001b[0m\u001b[0mfilename\u001b[0m\u001b[0;34m)\u001b[0m\u001b[0;34m:\u001b[0m\u001b[0;34m\u001b[0m\u001b[0m\n\u001b[1;32m     49\u001b[0m     \u001b[0;34m\"\"\"Return the size of a file, reported by os.stat().\"\"\"\u001b[0m\u001b[0;34m\u001b[0m\u001b[0m\n\u001b[0;32m---> 50\u001b[0;31m     \u001b[0;32mreturn\u001b[0m \u001b[0mos\u001b[0m\u001b[0;34m.\u001b[0m\u001b[0mstat\u001b[0m\u001b[0;34m(\u001b[0m\u001b[0mfilename\u001b[0m\u001b[0;34m)\u001b[0m\u001b[0;34m.\u001b[0m\u001b[0mst_size\u001b[0m\u001b[0;34m\u001b[0m\u001b[0m\n\u001b[0m\u001b[1;32m     51\u001b[0m \u001b[0;34m\u001b[0m\u001b[0m\n\u001b[1;32m     52\u001b[0m \u001b[0;34m\u001b[0m\u001b[0m\n",
      "\u001b[0;31mFileNotFoundError\u001b[0m: [Errno 2] No such file or directory: 'youtube_action_train_data_part1.pkl'"
     ]
    }
   ],
   "source": [
    "import pickle\n",
    "import os.path\n",
    "\n",
    "#Load the training and testing data from the pickle files\n",
    "train_data_file = \"youtube_action_train_data_part1.pkl\"\n",
    "test_data_file = \"test_data.pkl\"\n",
    "train_label_file = \"train_out.pkl\"\n",
    "test_label_file = \"test_out.pkl\"\n",
    "n_bytes = 2**31\n",
    "max_bytes = 2**31 - 1\n",
    "data = bytearray(n_bytes)\n",
    "\n",
    "## write\n",
    "#bytes_out = pickle.dumps(data)\n",
    "#with open(file_path, 'wb') as f_out:\n",
    "#    for idx in range(0, n_bytes, max_bytes):\n",
    "#        f_out.write(bytes_out[idx:idx+max_bytes])\n",
    "\n",
    "## read\n",
    "train_data = bytearray(0)\n",
    "input_size = os.path.getsize(train_data_file)\n",
    "with open(train_data_file, 'rb') as f_in:\n",
    "    for _ in range(0, input_size, max_bytes):\n",
    "        train_data += f_in.read(max_bytes)\n",
    "train_data = pickle.loads(train_data)\n",
    "\n",
    "test_data = bytearray(0)\n",
    "input_size = os.path.getsize(test_data_file)\n",
    "with open(test_data_file, 'rb') as f_in:\n",
    "    for _ in range(0, input_size, max_bytes):\n",
    "        test_data += f_in.read(max_bytes)\n",
    "test_data = pickle.loads(test_data)"
   ]
  },
  {
   "cell_type": "code",
   "execution_count": null,
   "metadata": {},
   "outputs": [],
   "source": []
  },
  {
   "cell_type": "code",
   "execution_count": 6,
   "metadata": {},
   "outputs": [],
   "source": [
    "#Load the training and testing labels from the pickle file\n",
    "train_label = bytearray(0)\n",
    "input_size = os.path.getsize(train_label_file)\n",
    "with open(train_label_file, 'rb') as f_in:\n",
    "    for _ in range(0, input_size, max_bytes):\n",
    "        train_label += f_in.read(max_bytes)\n",
    "train_label = pickle.loads(train_label)\n",
    "\n",
    "test_label = bytearray(0)\n",
    "input_size = os.path.getsize(test_label_file)\n",
    "with open(test_label_file, 'rb') as f_in:\n",
    "    for _ in range(0, input_size, max_bytes):\n",
    "        test_label += f_in.read(max_bytes)\n",
    "test_label = pickle.loads(test_label)"
   ]
  },
  {
   "cell_type": "code",
   "execution_count": 7,
   "metadata": {},
   "outputs": [
    {
     "data": {
      "text/plain": [
       "(2400, 10, 64, 64, 3)"
      ]
     },
     "execution_count": 7,
     "metadata": {},
     "output_type": "execute_result"
    }
   ],
   "source": [
    "train_data.shape\n",
    "test_data.shape"
   ]
  },
  {
   "cell_type": "code",
   "execution_count": 8,
   "metadata": {},
   "outputs": [
    {
     "data": {
      "text/plain": [
       "(5600, 10, 7, 2)"
      ]
     },
     "execution_count": 8,
     "metadata": {},
     "output_type": "execute_result"
    }
   ],
   "source": [
    "train_label.shape"
   ]
  },
  {
   "cell_type": "code",
   "execution_count": 9,
   "metadata": {},
   "outputs": [
    {
     "data": {
      "text/plain": [
       "(2400, 10, 7, 2)"
      ]
     },
     "execution_count": 9,
     "metadata": {},
     "output_type": "execute_result"
    }
   ],
   "source": [
    "test_label.shape"
   ]
  },
  {
   "cell_type": "code",
   "execution_count": 10,
   "metadata": {},
   "outputs": [],
   "source": [
    "num_units = 128\n",
    "batch_size = 4"
   ]
  },
  {
   "cell_type": "code",
   "execution_count": 11,
   "metadata": {},
   "outputs": [],
   "source": [
    "#Placeholders\n",
    "X = tf.placeholder(shape=[None, 10, 64, 64, 3], dtype=tf.float32)\n",
    "Y_ = tf.placeholder(shape=[None, 10, 7, 2], dtype=tf.float32)\n",
    "lr = tf.placeholder(dtype=tf.float32)"
   ]
  },
  {
   "cell_type": "code",
   "execution_count": 12,
   "metadata": {},
   "outputs": [
    {
     "data": {
      "text/plain": [
       "TensorShape([Dimension(None), Dimension(10), Dimension(30), Dimension(30), Dimension(32)])"
      ]
     },
     "execution_count": 12,
     "metadata": {},
     "output_type": "execute_result"
    }
   ],
   "source": [
    "#Construct the Convolutional Neural Network\n",
    "conv1 = tf.layers.conv3d(inputs=X, filters=32, kernel_size=[1,5,5], strides=(1, 1, 1), padding='valid', activation=tf.nn.relu)\n",
    "conv1.shape\n",
    "pool2 = tf.layers.max_pooling3d(inputs=conv1, pool_size=[1, 2, 2], strides=(1, 2, 2))\n",
    "pool2.shape"
   ]
  },
  {
   "cell_type": "code",
   "execution_count": 13,
   "metadata": {},
   "outputs": [
    {
     "data": {
      "text/plain": [
       "TensorShape([Dimension(None), Dimension(10), Dimension(26), Dimension(26), Dimension(32)])"
      ]
     },
     "execution_count": 13,
     "metadata": {},
     "output_type": "execute_result"
    }
   ],
   "source": [
    "conv2 = tf.layers.conv3d(inputs=pool2, filters=32, kernel_size=[1,5,5], strides=(1, 1, 1), padding='valid', activation=tf.nn.relu)\n",
    "conv2.shape"
   ]
  },
  {
   "cell_type": "code",
   "execution_count": 14,
   "metadata": {},
   "outputs": [
    {
     "data": {
      "text/plain": [
       "TensorShape([Dimension(None), Dimension(10), Dimension(13), Dimension(13), Dimension(32)])"
      ]
     },
     "execution_count": 14,
     "metadata": {},
     "output_type": "execute_result"
    }
   ],
   "source": [
    "pool3 = tf.layers.max_pooling3d(inputs=conv2, pool_size=[1, 2, 2], strides=(1, 2, 2))\n",
    "pool3.shape"
   ]
  },
  {
   "cell_type": "code",
   "execution_count": 15,
   "metadata": {},
   "outputs": [
    {
     "data": {
      "text/plain": [
       "TensorShape([Dimension(None), Dimension(10), Dimension(11), Dimension(11), Dimension(64)])"
      ]
     },
     "execution_count": 15,
     "metadata": {},
     "output_type": "execute_result"
    }
   ],
   "source": [
    "conv4 = tf.layers.conv3d(inputs=pool3, filters=64, kernel_size=[1,3,3], strides=(1, 1, 1), padding='valid', activation=tf.nn.relu)\n",
    "conv4.shape"
   ]
  },
  {
   "cell_type": "code",
   "execution_count": 16,
   "metadata": {},
   "outputs": [],
   "source": [
    "pool5 = tf.layers.max_pooling3d(inputs=conv4, pool_size=[1, 2, 2], strides=(1, 2, 2))"
   ]
  },
  {
   "cell_type": "code",
   "execution_count": 17,
   "metadata": {},
   "outputs": [
    {
     "data": {
      "text/plain": [
       "TensorShape([Dimension(None), Dimension(10), Dimension(5), Dimension(5), Dimension(64)])"
      ]
     },
     "execution_count": 17,
     "metadata": {},
     "output_type": "execute_result"
    }
   ],
   "source": [
    "pool5.shape"
   ]
  },
  {
   "cell_type": "code",
   "execution_count": 18,
   "metadata": {},
   "outputs": [
    {
     "data": {
      "text/plain": [
       "TensorShape([Dimension(None), Dimension(10), Dimension(1600)])"
      ]
     },
     "execution_count": 18,
     "metadata": {},
     "output_type": "execute_result"
    }
   ],
   "source": [
    "fully_connected = tf.reshape(pool5, (-1, 10, 1600))\n",
    "fully_connected.shape"
   ]
  },
  {
   "cell_type": "code",
   "execution_count": 19,
   "metadata": {},
   "outputs": [
    {
     "data": {
      "text/plain": [
       "TensorShape([Dimension(None), Dimension(10), Dimension(128)])"
      ]
     },
     "execution_count": 19,
     "metadata": {},
     "output_type": "execute_result"
    }
   ],
   "source": [
    "rnn_input = tf.layers.dense(inputs=fully_connected, units=num_units, activation=tf.nn.relu)\n",
    "rnn_input.shape"
   ]
  },
  {
   "cell_type": "code",
   "execution_count": 20,
   "metadata": {},
   "outputs": [],
   "source": [
    "lstm_cell = tf.nn.rnn_cell.LSTMCell(num_units)\n",
    "h_val, _ = tf.nn.dynamic_rnn(lstm_cell, rnn_input, dtype=tf.float32)"
   ]
  },
  {
   "cell_type": "code",
   "execution_count": 2,
   "metadata": {},
   "outputs": [
    {
     "ename": "NameError",
     "evalue": "name 'tf' is not defined",
     "output_type": "error",
     "traceback": [
      "\u001b[0;31m---------------------------------------------------------------------------\u001b[0m",
      "\u001b[0;31mNameError\u001b[0m                                 Traceback (most recent call last)",
      "\u001b[0;32m<ipython-input-2-935dbe75af74>\u001b[0m in \u001b[0;36m<module>\u001b[0;34m()\u001b[0m\n\u001b[1;32m      1\u001b[0m \u001b[0;31m#Feed the input to the RNN\u001b[0m\u001b[0;34m\u001b[0m\u001b[0;34m\u001b[0m\u001b[0m\n\u001b[1;32m      2\u001b[0m \u001b[0mseq_length\u001b[0m \u001b[0;34m=\u001b[0m \u001b[0;36m30\u001b[0m\u001b[0;34m\u001b[0m\u001b[0m\n\u001b[0;32m----> 3\u001b[0;31m \u001b[0mfinal_output\u001b[0m \u001b[0;34m=\u001b[0m \u001b[0mtf\u001b[0m\u001b[0;34m.\u001b[0m\u001b[0mzeros\u001b[0m\u001b[0;34m(\u001b[0m\u001b[0mshape\u001b[0m\u001b[0;34m=\u001b[0m\u001b[0;34m[\u001b[0m\u001b[0mtf\u001b[0m\u001b[0;34m.\u001b[0m\u001b[0mshape\u001b[0m\u001b[0;34m(\u001b[0m\u001b[0mX\u001b[0m\u001b[0;34m)\u001b[0m\u001b[0;34m[\u001b[0m\u001b[0;36m0\u001b[0m\u001b[0;34m]\u001b[0m\u001b[0;34m,\u001b[0m \u001b[0;36m0\u001b[0m\u001b[0;34m,\u001b[0m \u001b[0;36m14\u001b[0m\u001b[0;34m]\u001b[0m\u001b[0;34m)\u001b[0m\u001b[0;34m\u001b[0m\u001b[0m\n\u001b[0m\u001b[1;32m      4\u001b[0m \u001b[0mw_fc\u001b[0m \u001b[0;34m=\u001b[0m \u001b[0mtf\u001b[0m\u001b[0;34m.\u001b[0m\u001b[0mVariable\u001b[0m\u001b[0;34m(\u001b[0m\u001b[0mtf\u001b[0m\u001b[0;34m.\u001b[0m\u001b[0mtruncated_normal\u001b[0m\u001b[0;34m(\u001b[0m\u001b[0;34m[\u001b[0m\u001b[0mnum_units\u001b[0m\u001b[0;34m,\u001b[0m \u001b[0;36m14\u001b[0m\u001b[0;34m]\u001b[0m\u001b[0;34m,\u001b[0m \u001b[0mstddev\u001b[0m\u001b[0;34m=\u001b[0m\u001b[0;36m0.1\u001b[0m\u001b[0;34m)\u001b[0m\u001b[0;34m,\u001b[0m \u001b[0mname\u001b[0m\u001b[0;34m=\u001b[0m\u001b[0;34m'final_weight'\u001b[0m\u001b[0;34m)\u001b[0m\u001b[0;34m\u001b[0m\u001b[0m\n\u001b[1;32m      5\u001b[0m \u001b[0mb_fc\u001b[0m \u001b[0;34m=\u001b[0m \u001b[0mtf\u001b[0m\u001b[0;34m.\u001b[0m\u001b[0mVariable\u001b[0m\u001b[0;34m(\u001b[0m\u001b[0mtf\u001b[0m\u001b[0;34m.\u001b[0m\u001b[0mconstant\u001b[0m\u001b[0;34m(\u001b[0m\u001b[0;36m0.1\u001b[0m\u001b[0;34m,\u001b[0m \u001b[0mtf\u001b[0m\u001b[0;34m.\u001b[0m\u001b[0mfloat32\u001b[0m\u001b[0;34m,\u001b[0m \u001b[0;34m[\u001b[0m\u001b[0;36m14\u001b[0m\u001b[0;34m]\u001b[0m\u001b[0;34m)\u001b[0m\u001b[0;34m,\u001b[0m \u001b[0mname\u001b[0m\u001b[0;34m=\u001b[0m\u001b[0;34m'last_bias'\u001b[0m\u001b[0;34m)\u001b[0m\u001b[0;34m\u001b[0m\u001b[0m\n",
      "\u001b[0;31mNameError\u001b[0m: name 'tf' is not defined"
     ]
    }
   ],
   "source": [
    "#Feed the input to the RNN\n",
    "seq_length = 30\n",
    "final_output = tf.zeros(shape=[tf.shape(X)[0], 0, 14])\n",
    "w_fc = tf.Variable(tf.truncated_normal([num_units, 14], stddev=0.1), name='final_weight')\n",
    "b_fc = tf.Variable(tf.constant(0.1, tf.float32, [14]), name='last_bias')\n",
    "for i in np.arange(seq_length):\n",
    "    temp = tf.reshape(h_val[:, i, :], [-1, num_units])\n",
    "    output = tf.matmul(temp, w_fc) + b_fc\n",
    "    output = tf.reshape(output, [-1, 1, 14])\n",
    "    final_output = tf.concat([final_output, output], axis=1)"
   ]
  },
  {
   "cell_type": "code",
   "execution_count": 22,
   "metadata": {},
   "outputs": [
    {
     "data": {
      "text/plain": [
       "TensorShape([Dimension(None), Dimension(10), Dimension(14)])"
      ]
     },
     "execution_count": 22,
     "metadata": {},
     "output_type": "execute_result"
    }
   ],
   "source": [
    "final_output.shape"
   ]
  },
  {
   "cell_type": "code",
   "execution_count": 23,
   "metadata": {},
   "outputs": [],
   "source": [
    "final_output = tf.reshape(final_output, (-1, 10, 7, 2))"
   ]
  },
  {
   "cell_type": "code",
   "execution_count": 39,
   "metadata": {},
   "outputs": [
    {
     "data": {
      "text/plain": [
       "TensorShape([Dimension(7)])"
      ]
     },
     "execution_count": 39,
     "metadata": {},
     "output_type": "execute_result"
    }
   ],
   "source": [
    "#Calculate the mean squared loss and the average pixel distance for each image\n",
    "mean_squared_loss = tf.losses.mean_squared_error(labels=Y_, predictions=final_output)\n",
    "distance = tf.sqrt(tf.reduce_sum(tf.subtract(final_output, Y_)**2, axis = 3))\n",
    "average_distance = tf.reduce_mean(tf.reduce_mean(distance, axis = 1), axis = 0)\n",
    "average_distance.shape"
   ]
  },
  {
   "cell_type": "code",
   "execution_count": 25,
   "metadata": {},
   "outputs": [],
   "source": [
    "# training step, the learning rate is a placeholder\n",
    "train_step = tf.train.AdamOptimizer(lr).minimize(mean_squared_loss)"
   ]
  },
  {
   "cell_type": "code",
   "execution_count": 55,
   "metadata": {},
   "outputs": [
    {
     "name": "stdout",
     "output_type": "stream",
     "text": [
      "0 training loss: 842.066 (lr:0.0008)\n",
      "[ 36.81301117  44.47809982  54.71934891  44.51289368  55.26139832\n",
      "  38.34843826  45.72595596]\n",
      "0 test loss: 1093.98\n",
      "10 training loss: 851.002 (lr:0.0008)\n",
      "20 training loss: 812.326 (lr:0.0008)\n",
      "[ 32.54631042  38.35795593  49.62756729  39.97473526  49.19489288\n",
      "  35.4987793   41.8002243 ]\n",
      "20 test loss: 888.445\n",
      "30 training loss: 804.661 (lr:0.0008)\n",
      "40 training loss: 780.846 (lr:0.0008)\n",
      "[ 29.88226891  37.12385559  47.61646652  37.73807526  47.14468384\n",
      "  33.52452469  39.76183701]\n",
      "40 test loss: 804.751\n",
      "50 training loss: 633.242 (lr:0.0008)\n",
      "60 training loss: 609.308 (lr:0.0008)\n",
      "[ 28.13665771  35.31553268  45.83029938  36.22495651  45.68645859\n",
      "  31.44199181  37.80857086]\n",
      "60 test loss: 738.271\n",
      "70 training loss: 624.848 (lr:0.0008)\n",
      "80 training loss: 614.849 (lr:0.0008)\n",
      "[ 25.57921219  33.19661331  43.70502472  33.21260071  43.1999321\n",
      "  28.81017876  35.40890884]\n",
      "80 test loss: 653.503\n",
      "90 training loss: 472.107 (lr:0.0008)\n",
      "100 training loss: 473.911 (lr:0.0008)\n",
      "[ 24.17352486  31.48157883  40.99681091  32.38175201  40.80183792\n",
      "  27.17709732  33.37467957]\n",
      "100 test loss: 586.803\n",
      "110 training loss: 521.555 (lr:0.0008)\n",
      "120 training loss: 614.251 (lr:0.0008)\n",
      "[ 21.95282936  30.48560715  39.69311905  30.12722588  38.4058075\n",
      "  24.64120674  30.93233109]\n",
      "120 test loss: 523.491\n",
      "130 training loss: 559.682 (lr:0.0008)\n",
      "140 training loss: 435.32 (lr:0.0008)\n",
      "[ 20.94735909  27.34687805  38.1870842   28.37516022  37.31163406\n",
      "  23.46153641  29.89570808]\n",
      "140 test loss: 477.753\n",
      "150 training loss: 497.174 (lr:0.0008)\n",
      "160 training loss: 415.948 (lr:0.0008)\n",
      "[ 20.18699455  26.50156975  36.67916107  27.29108429  35.48532486\n",
      "  22.3965435   28.37765884]\n",
      "160 test loss: 441.186\n",
      "170 training loss: 379.439 (lr:0.0008)\n",
      "180 training loss: 355.856 (lr:0.0008)\n",
      "[ 17.42008018  23.42203331  34.77342606  24.8998909   33.78464508\n",
      "  19.90118217  26.19194794]\n",
      "180 test loss: 377.832\n",
      "190 training loss: 271.759 (lr:0.0008)\n",
      "200 training loss: 350.046 (lr:0.0008)\n",
      "[ 16.51655388  22.86153984  31.84115791  23.06721497  30.92346001\n",
      "  18.25059509  24.40341949]\n",
      "200 test loss: 329.954\n",
      "210 training loss: 313.659 (lr:0.0008)\n",
      "220 training loss: 172.49 (lr:0.0008)\n",
      "[ 14.70516014  19.06025314  29.52539825  19.78404617  28.40894318\n",
      "  15.84752464  22.0543499 ]\n",
      "220 test loss: 269.426\n",
      "230 training loss: 281.349 (lr:0.0008)\n",
      "240 training loss: 249.092 (lr:0.0008)\n",
      "[ 14.30303574  19.9131794   30.31900597  21.01795387  29.19383049\n",
      "  15.86979866  22.02165604]\n",
      "240 test loss: 282.71\n",
      "250 training loss: 273.932 (lr:0.0008)\n",
      "260 training loss: 161.286 (lr:0.0008)\n",
      "[ 12.90637112  17.6064949   27.50666046  18.71636581  26.95799065\n",
      "  14.16165447  20.10781097]\n",
      "260 test loss: 234.846\n",
      "270 training loss: 215.955 (lr:0.0008)\n",
      "280 training loss: 186.735 (lr:0.0008)\n",
      "[ 12.03931618  17.67485809  26.73292923  17.51520538  25.12965775\n",
      "  12.81902599  18.51579094]\n",
      "280 test loss: 214.14\n",
      "290 training loss: 105.674 (lr:0.0008)\n",
      "300 training loss: 160.965 (lr:0.0008)\n",
      "[ 12.06325436  16.78079605  25.049963    16.49131966  23.50741386\n",
      "  12.36247444  17.65719795]\n",
      "300 test loss: 193.897\n",
      "310 training loss: 221.026 (lr:0.0008)\n",
      "320 training loss: 168.185 (lr:0.0008)\n",
      "[  9.9817009   14.48332024  22.84271812  14.83467484  21.53686333\n",
      "  10.80778408  15.56424904]\n",
      "320 test loss: 158.718\n",
      "330 training loss: 133.515 (lr:0.0008)\n",
      "340 training loss: 165.974 (lr:0.0008)\n",
      "[  9.45910263  14.50847149  22.11536217  14.68631268  21.08760452\n",
      "  10.23422909  14.85541725]\n",
      "340 test loss: 152.447\n",
      "350 training loss: 147.727 (lr:0.0008)\n",
      "360 training loss: 98.3813 (lr:0.0008)\n",
      "[  8.95398331  13.82176495  21.84264565  12.98181534  19.00992966\n",
      "   9.11404514  13.38243198]\n",
      "360 test loss: 133.901\n",
      "370 training loss: 86.6255 (lr:0.0008)\n",
      "380 training loss: 84.8861 (lr:0.0008)\n",
      "[  8.96278858  12.9326086   20.84260559  12.57195473  19.19519806\n",
      "   9.40607834  13.59927368]\n",
      "380 test loss: 127.386\n",
      "390 training loss: 100.019 (lr:0.0008)\n",
      "400 training loss: 150.749 (lr:0.0008)\n",
      "[  7.76408672  13.204216    17.66528702  11.99186039  16.38420868\n",
      "   8.11296272  11.4800148 ]\n",
      "400 test loss: 104.007\n",
      "410 training loss: 93.5061 (lr:0.0008)\n",
      "420 training loss: 101.501 (lr:0.0008)\n",
      "[  7.9896102   12.78944111  17.35813141  11.84165668  16.16149902\n",
      "   8.44779491  11.37162399]\n",
      "420 test loss: 101.327\n",
      "430 training loss: 87.7182 (lr:0.0008)\n",
      "440 training loss: 115.158 (lr:0.0008)\n",
      "[  7.77980661  12.44482899  16.57415771  11.12816048  14.6605196\n",
      "   7.59100342  10.33085346]\n",
      "440 test loss: 90.4579\n",
      "450 training loss: 83.3781 (lr:0.0008)\n",
      "460 training loss: 53.3225 (lr:0.0008)\n",
      "[  7.29394817  12.54581642  17.12730217  11.18414688  14.73996735\n",
      "   7.57616806   9.96937084]\n",
      "460 test loss: 91.1803\n",
      "470 training loss: 106.529 (lr:0.0008)\n",
      "480 training loss: 70.6172 (lr:0.0008)\n",
      "[  7.44212484  11.91116714  16.22444534  10.75377178  14.86016273\n",
      "   8.23722649  10.38896275]\n",
      "480 test loss: 88.6204\n",
      "490 training loss: 68.1335 (lr:0.0008)\n",
      "500 training loss: 85.5093 (lr:0.0008)\n",
      "[  6.80719376  11.80728436  16.0135231   10.9128418   14.10438442\n",
      "   7.6695118    9.40688992]\n",
      "500 test loss: 82.921\n",
      "510 training loss: 80.1027 (lr:0.0008)\n",
      "520 training loss: 55.6689 (lr:0.0008)\n",
      "[  7.01053286  12.21362305  15.71859837  10.7786026   13.56927204\n",
      "   7.6004405    9.03801727]\n",
      "520 test loss: 80.5936\n",
      "530 training loss: 78.5351 (lr:0.0008)\n",
      "540 training loss: 50.5162 (lr:0.0008)\n",
      "[  6.57514668  11.76313591  15.78934479  10.38218307  13.23066044\n",
      "   7.28747606   8.75675678]\n",
      "540 test loss: 76.8255\n",
      "550 training loss: 62.3888 (lr:0.0008)\n",
      "560 training loss: 47.8082 (lr:0.0008)\n",
      "[  6.7432518   11.59550571  15.31663227  10.108531    12.59698963\n",
      "   7.08845472   8.17045975]\n",
      "560 test loss: 73.6369\n",
      "570 training loss: 70.2981 (lr:0.0008)\n",
      "580 training loss: 39.0174 (lr:0.0008)\n",
      "[  7.3693862   11.82903576  14.57351112  10.49779129  12.50618935\n",
      "   7.56046677   8.49918556]\n",
      "580 test loss: 74.2628\n",
      "590 training loss: 64.6052 (lr:0.0008)\n",
      "600 training loss: 54.4448 (lr:0.0008)\n",
      "[  6.56167459  12.14497662  13.85795403   9.55997086  11.43048954\n",
      "   6.88410521   7.67073345]\n",
      "600 test loss: 65.524\n",
      "610 training loss: 60.2661 (lr:0.0008)\n",
      "620 training loss: 52.6072 (lr:0.0008)\n",
      "[  6.63241005  12.19899368  14.88819313   9.62652016  11.34210968\n",
      "   6.63018942   7.31240606]\n",
      "620 test loss: 67.8388\n",
      "630 training loss: 82.0221 (lr:0.0008)\n",
      "640 training loss: 62.4909 (lr:0.0008)\n",
      "[  6.71726561  11.55820274  14.55436134  10.6398344   12.00836563\n",
      "   7.40313435   7.89444447]\n",
      "640 test loss: 70.2084\n",
      "650 training loss: 39.6101 (lr:0.0008)\n",
      "660 training loss: 58.3816 (lr:0.0008)\n",
      "[  7.1951251   12.15439129  14.16405392   9.43748283  10.71987057\n",
      "   7.18965197   7.68503761]\n",
      "660 test loss: 66.9897\n",
      "670 training loss: 41.0953 (lr:0.0008)\n",
      "680 training loss: 62.6361 (lr:0.0008)\n",
      "[  6.89425039  11.71246052  13.95938683   9.87507915  11.52832985\n",
      "   7.11950016   7.62341356]\n",
      "680 test loss: 66.2892\n",
      "690 training loss: 45.5365 (lr:0.0008)\n",
      "700 training loss: 60.0533 (lr:0.0008)\n",
      "[  6.63987875  12.0399332   14.13326168   9.48088932  10.95114613\n",
      "   7.08274221   7.49185991]\n",
      "700 test loss: 65.4343\n",
      "710 training loss: 56.0889 (lr:0.0008)\n",
      "720 training loss: 36.8057 (lr:0.0008)\n",
      "[  6.54694557  11.95487309  14.76266098  10.05440617  11.17847538\n",
      "   6.85383749   7.08884525]\n",
      "720 test loss: 66.6129\n",
      "730 training loss: 80.2496 (lr:0.0008)\n",
      "740 training loss: 45.2756 (lr:0.0008)\n",
      "[  6.22275925  11.20779896  13.6937952    9.39225197  10.85598373\n",
      "   7.04670525   7.46852493]\n",
      "740 test loss: 62.0598\n",
      "750 training loss: 52.8592 (lr:0.0008)\n",
      "760 training loss: 43.73 (lr:0.0008)\n",
      "[  7.03675604  11.83559704  14.10284424   9.70213795  10.63545036\n",
      "   7.17363787   7.31010628]\n",
      "760 test loss: 65.3694\n",
      "770 training loss: 51.1422 (lr:0.0008)\n",
      "780 training loss: 70.1974 (lr:0.0008)\n",
      "[  6.66189194  11.48523712  14.58050251   9.49857044  10.79796791\n",
      "   6.97029972   7.30073357]\n",
      "780 test loss: 64.3275\n",
      "790 training loss: 106.781 (lr:0.0008)\n",
      "800 training loss: 77.4808 (lr:0.0008)\n",
      "[  6.45536089  11.60351849  13.76093674   9.81700516  10.92045689\n",
      "   6.8489356    7.16189384]\n",
      "800 test loss: 62.6302\n",
      "810 training loss: 39.4767 (lr:0.0008)\n",
      "820 training loss: 56.8471 (lr:0.0008)\n",
      "[  6.9552083   12.10020542  14.53437519   9.65968609  10.84731579\n",
      "   7.37124157   7.64758301]\n",
      "820 test loss: 67.5429\n",
      "830 training loss: 55.2389 (lr:0.0008)\n",
      "840 training loss: 55.4344 (lr:0.0008)\n",
      "[  6.62661886  11.24807167  13.73863506   9.20832539  10.34336567\n",
      "   6.98154163   7.29427719]\n",
      "840 test loss: 61.0538\n",
      "850 training loss: 73.7179 (lr:0.0008)\n",
      "860 training loss: 86.6151 (lr:0.0008)\n",
      "[  6.55340147  11.69709587  13.9822073    9.33725452  10.84089851\n",
      "   6.84036827   7.19567871]\n",
      "860 test loss: 62.2918\n",
      "870 training loss: 92.6984 (lr:0.0008)\n",
      "880 training loss: 78.5384 (lr:0.0008)\n",
      "[  6.84649086  11.79960728  13.91302395   9.69070911  10.47696209\n",
      "   6.90957355   7.19210434]\n",
      "880 test loss: 63.2902\n",
      "890 training loss: 72.3672 (lr:0.0008)\n",
      "900 training loss: 54.8855 (lr:0.0008)\n",
      "[  6.70413399  11.68363571  13.89482307   9.99190712  10.86291218\n",
      "   7.33026934   7.53054523]\n",
      "900 test loss: 65.3867\n",
      "910 training loss: 84.823 (lr:0.0008)\n",
      "920 training loss: 57.6165 (lr:0.0008)\n",
      "[  6.67193651  11.46645546  14.36981297   8.81595707   9.98562622\n",
      "   6.33982468   6.65700674]\n",
      "920 test loss: 59.9696\n",
      "930 training loss: 68.9287 (lr:0.0008)\n",
      "940 training loss: 63.4184 (lr:0.0008)\n",
      "[  6.47462749  11.16714859  13.38720798   9.2048521   10.09578896\n",
      "   6.81697369   7.07011795]\n",
      "940 test loss: 58.2016\n",
      "950 training loss: 47.6963 (lr:0.0008)\n",
      "960 training loss: 66.3989 (lr:0.0008)\n",
      "[  6.91861677  11.29540253  13.66400719   9.60737514  10.56349087\n",
      "   7.00546408   7.16684866]\n",
      "960 test loss: 62.4157\n",
      "970 training loss: 53.4181 (lr:0.0008)\n",
      "980 training loss: 55.4555 (lr:0.0008)\n",
      "[  7.13567686  11.38510513  13.77597809  10.06326866  11.00453949\n",
      "   7.65533876   7.87072277]\n",
      "980 test loss: 65.6674\n",
      "990 training loss: 59.8333 (lr:0.0008)\n",
      "1000 training loss: 68.1166 (lr:0.0008)\n",
      "[  7.09632874  11.94213963  14.39021969  10.01740646  11.03519249\n",
      "   7.41293049   7.6594677 ]\n",
      "1000 test loss: 68.0418\n",
      "1010 training loss: 57.9528 (lr:0.0008)\n",
      "1020 training loss: 65.6681 (lr:0.0008)\n",
      "[  6.49487448  11.70972252  14.16292095   9.55341721  10.62571621\n",
      "   6.82483578   7.15167522]\n",
      "1020 test loss: 63.0961\n",
      "1030 training loss: 47.5522 (lr:0.0008)\n",
      "1040 training loss: 43.6932 (lr:0.0008)\n",
      "[  6.60050488  11.93124294  13.56158447   9.60582447  10.2193985\n",
      "   6.70728159   7.00455189]\n",
      "1040 test loss: 61.9452\n",
      "1050 training loss: 81.5864 (lr:0.0008)\n",
      "1060 training loss: 46.7521 (lr:0.0008)\n",
      "[  6.58057737  11.56502533  14.23532104   9.79340076  10.86968899\n",
      "   7.20182562   7.38526011]\n",
      "1060 test loss: 64.0357\n",
      "1070 training loss: 63.6662 (lr:0.0008)\n",
      "1080 training loss: 53.4626 (lr:0.0008)\n",
      "[  7.10403299  12.00015736  14.73535633  10.61545372  11.81125832\n",
      "   7.9787035    8.08275318]\n",
      "1080 test loss: 72.1284\n",
      "1090 training loss: 82.1557 (lr:0.0008)\n",
      "1100 training loss: 70.4863 (lr:0.0008)\n",
      "[  6.55156088  11.26554775  14.16516876   9.82726479  11.12920666\n",
      "   6.90300274   7.18050289]\n",
      "1100 test loss: 64.6245\n",
      "1110 training loss: 56.6509 (lr:0.0008)\n",
      "1120 training loss: 66.7698 (lr:0.0008)\n",
      "[  6.93674755  11.54388046  14.12388897  10.16818523  11.02832127\n",
      "   7.12001848   7.28792477]\n",
      "1120 test loss: 65.3657\n",
      "1130 training loss: 29.8754 (lr:0.0008)\n",
      "1140 training loss: 61.3033 (lr:0.0008)\n",
      "[  6.77239513  11.42334557  14.48157883   9.82832432  10.94879627\n",
      "   7.05133247   7.19993305]\n",
      "1140 test loss: 65.1676\n",
      "1150 training loss: 59.0399 (lr:0.0008)\n",
      "1160 training loss: 57.0176 (lr:0.0008)\n",
      "[  6.63444901  11.90529633  14.09483051   9.57598591  10.33484268\n",
      "   6.48627615   6.75935173]\n",
      "1160 test loss: 62.0519\n",
      "1170 training loss: 43.6874 (lr:0.0008)\n",
      "1180 training loss: 35.3052 (lr:0.0008)\n",
      "[  6.74675035  11.58421898  14.09517002   9.30238342  10.3245945\n",
      "   6.84990311   7.06907606]\n",
      "1180 test loss: 61.6115\n",
      "1190 training loss: 62.5277 (lr:0.0008)\n",
      "1200 training loss: 53.8685 (lr:0.0008)\n",
      "[  6.19892645  11.73145676  14.04417229   9.47499752  10.39976406\n",
      "   6.60970879   6.95046377]\n",
      "1200 test loss: 60.3461\n",
      "1210 training loss: 74.6167 (lr:0.0008)\n",
      "1220 training loss: 66.1382 (lr:0.0008)\n",
      "[  6.55724907  11.10641575  13.95610237   9.721735    10.81193447\n",
      "   6.84383583   7.17620468]\n",
      "1220 test loss: 61.7845\n",
      "1230 training loss: 48.9185 (lr:0.0008)\n",
      "1240 training loss: 48.0205 (lr:0.0008)\n",
      "[  6.47739792  11.65015411  13.59068203   9.4002676   10.21599102\n",
      "   6.77999449   7.10179138]\n",
      "1240 test loss: 60.3443\n",
      "1250 training loss: 62.3252 (lr:0.0008)\n",
      "1260 training loss: 54.6677 (lr:0.0008)\n",
      "[  6.53568172  11.68561268  13.45916462   9.6553812   10.4634409\n",
      "   6.89097309   7.167243  ]\n",
      "1260 test loss: 60.9674\n",
      "1270 training loss: 32.7142 (lr:0.0008)\n",
      "1280 training loss: 49.407 (lr:0.0008)\n",
      "[  6.43449593  11.63303185  14.11606693   9.79626751  11.04334068\n",
      "   6.97996378   7.46799374]\n",
      "1280 test loss: 64.0235\n",
      "1290 training loss: 61.7273 (lr:0.0008)\n",
      "1300 training loss: 41.9336 (lr:0.0008)\n",
      "[  6.55907917  12.06490707  14.80554295  10.17041302  11.26108646\n",
      "   6.98222542   7.31842041]\n",
      "1300 test loss: 67.378\n",
      "1310 training loss: 62.3504 (lr:0.0008)\n",
      "1320 training loss: 54.7936 (lr:0.0008)\n",
      "[  6.30772591  11.54349327  14.29168415   9.84052372  11.08115768\n",
      "   7.35602522   7.69584703]\n",
      "1320 test loss: 64.7031\n",
      "1330 training loss: 59.5002 (lr:0.0008)\n",
      "1340 training loss: 87.9614 (lr:0.0008)\n",
      "[  6.89741039  11.34273815  14.27686882  10.14994907  11.29664993\n",
      "   7.48553467   7.72954464]\n",
      "1340 test loss: 66.7987\n",
      "1350 training loss: 76.9679 (lr:0.0008)\n",
      "1360 training loss: 59.999 (lr:0.0008)\n",
      "[  7.4132843   12.13792229  13.50574684   9.72710609  10.37489891\n",
      "   7.60783815   7.7124896 ]\n",
      "1360 test loss: 65.6068\n",
      "1370 training loss: 69.8587 (lr:0.0008)\n",
      "1380 training loss: 57.7193 (lr:0.0008)\n",
      "[  6.38361406  10.86910629  13.40656471   9.55545807  10.81736374\n",
      "   6.89662743   7.36591816]\n",
      "1380 test loss: 59.8216\n",
      "1390 training loss: 54.2585 (lr:0.0008)\n",
      "1400 training loss: 67.2884 (lr:0.0008)\n",
      "[  7.039464    12.13556671  14.72519398  10.24466419  11.58369732\n",
      "   7.59831667   7.92721176]\n",
      "1400 test loss: 69.7764\n",
      "1410 training loss: 36.512 (lr:0.0008)\n",
      "1420 training loss: 34.4671 (lr:0.0008)\n",
      "[  6.96847057  11.8039999   13.60949612   9.50620461  10.21877861\n",
      "   6.90862989   6.93343306]\n",
      "1420 test loss: 61.6797\n",
      "1430 training loss: 52.5088 (lr:0.0008)\n",
      "1440 training loss: 46.3024 (lr:0.0008)\n",
      "[  6.84111309  11.34534836  14.16961193   9.78916264  10.70980072\n",
      "   6.75863075   6.91296148]\n",
      "1440 test loss: 62.7071\n",
      "1450 training loss: 41.7967 (lr:0.0008)\n",
      "1460 training loss: 78.6596 (lr:0.0008)\n",
      "[  6.75328684  11.31591702  13.51271439   9.69263268  10.51140499\n",
      "   7.09603167   7.40052223]\n",
      "1460 test loss: 60.9208\n",
      "1470 training loss: 65.6078 (lr:0.0008)\n",
      "1480 training loss: 52.2357 (lr:0.0008)\n",
      "[  7.23058891  11.78665733  14.07173538  10.28103161  10.91444683\n",
      "   7.67555857   7.65328407]\n",
      "1480 test loss: 67.0274\n",
      "1490 training loss: 43.9455 (lr:0.0008)\n",
      "1500 training loss: 66.3653 (lr:0.0008)\n",
      "[  6.71963644  11.81388092  14.55364037   9.64060211  11.04307175\n",
      "   7.2614131    7.5090003 ]\n",
      "1500 test loss: 65.7913\n",
      "1510 training loss: 37.386 (lr:0.0008)\n",
      "1520 training loss: 52.9251 (lr:0.0008)\n",
      "[  6.75890303  11.71382236  13.73863506   9.67386436  10.82587814\n",
      "   7.20541811   7.50172186]\n",
      "1520 test loss: 62.7433\n",
      "1530 training loss: 44.837 (lr:0.0008)\n",
      "1540 training loss: 53.6103 (lr:0.0008)\n",
      "[  6.41623116  11.61684322  13.34668541   9.44862938  10.16078091\n",
      "   6.77315187   7.12033558]\n",
      "1540 test loss: 59.3185\n",
      "1550 training loss: 74.0569 (lr:0.0008)\n",
      "1560 training loss: 75.296 (lr:0.0008)\n",
      "[  6.2446723   11.6726265   14.65567493   9.41604996  10.6859827\n",
      "   6.71057415   6.89576769]\n",
      "1560 test loss: 62.631\n",
      "1570 training loss: 62.3299 (lr:0.0008)\n",
      "1580 training loss: 58.3407 (lr:0.0008)\n",
      "[  6.4917202   11.63907337  14.11927128   9.59976578  10.69336414\n",
      "   6.86476183   7.09725523]\n",
      "1580 test loss: 62.6185\n",
      "1590 training loss: 74.4054 (lr:0.0008)\n",
      "1600 training loss: 53.0343 (lr:0.0008)\n",
      "[  6.49955702  11.20352173  13.68976116   9.9347229   10.98144817\n",
      "   6.94186354   7.24101877]\n",
      "1600 test loss: 61.8814\n",
      "1610 training loss: 74.5245 (lr:0.0008)\n",
      "1620 training loss: 67.9684 (lr:0.0008)\n",
      "[  7.01478434  11.88668919  14.52632046   9.67460251  10.86552525\n",
      "   7.29878044   7.66493464]\n",
      "1620 test loss: 66.7824\n",
      "1630 training loss: 73.6511 (lr:0.0008)\n",
      "1640 training loss: 87.7555 (lr:0.0008)\n",
      "[  6.89537907  11.25297928  14.01318932   9.42090607  10.62559319\n",
      "   7.53698063   7.7057271 ]\n",
      "1640 test loss: 62.7353\n",
      "1650 training loss: 43.1551 (lr:0.0008)\n",
      "1660 training loss: 56.4718 (lr:0.0008)\n",
      "[  6.8555007   11.80632687  13.85185814  10.07987118  10.94495487\n",
      "   7.36715078   7.37371397]\n",
      "1660 test loss: 64.8587\n",
      "1670 training loss: 101.927 (lr:0.0008)\n",
      "1680 training loss: 36.1598 (lr:0.0008)\n",
      "[  6.60717487  11.83253098  14.33027267   9.25215149  10.60284519\n",
      "   6.60353088   7.0485673 ]\n",
      "1680 test loss: 62.8638\n",
      "1690 training loss: 60.4131 (lr:0.0008)\n",
      "1700 training loss: 52.6877 (lr:0.0008)\n",
      "[  6.94876957  11.78345966  14.50983143   9.90452671  10.91558266\n",
      "   7.01440668   7.20305967]\n",
      "1700 test loss: 65.5985\n",
      "1710 training loss: 83.9634 (lr:0.0008)\n",
      "1720 training loss: 28.0266 (lr:0.0008)\n",
      "[  6.93239641  12.01074982  13.8666544   10.27804852  11.01758385\n",
      "   7.6373229    7.65070963]\n",
      "1720 test loss: 66.8177\n",
      "1730 training loss: 54.155 (lr:0.0008)\n",
      "1740 training loss: 68.4441 (lr:0.0008)\n",
      "[  6.8671279   11.75152111  14.36133385   9.49540997  10.50043678\n",
      "   7.07374334   7.28419542]\n",
      "1740 test loss: 65.0902\n",
      "1750 training loss: 45.6067 (lr:0.0008)\n",
      "1760 training loss: 89.1936 (lr:0.0008)\n",
      "[  6.87800884  11.4073143   14.79478645  10.10754013  11.34079361\n",
      "   7.52299309   7.72767496]\n",
      "1760 test loss: 68.2685\n",
      "1770 training loss: 60.7676 (lr:0.0008)\n",
      "1780 training loss: 32.2323 (lr:0.0008)\n",
      "[  6.96414566  12.48399448  14.46991539  10.14122772  10.77766228\n",
      "   6.94036484   7.04897833]\n",
      "1780 test loss: 66.5056\n",
      "1790 training loss: 43.1149 (lr:0.0008)\n",
      "1800 training loss: 31.244 (lr:0.0008)\n",
      "[  6.25339031  11.76467896  13.9274292    9.43579865  10.38659668\n",
      "   6.78103638   6.9817853 ]\n",
      "1800 test loss: 61.1323\n",
      "1810 training loss: 47.5113 (lr:0.0008)\n",
      "1820 training loss: 54.2532 (lr:0.0008)\n",
      "[  6.66547012  11.80165482  14.26403427   9.94705582  10.89886379\n",
      "   6.78357077   7.12850285]\n",
      "1820 test loss: 65.0436\n",
      "1830 training loss: 54.3303 (lr:0.0008)\n",
      "1840 training loss: 43.172 (lr:0.0008)\n",
      "[  6.92517328  11.51941395  13.83795738   9.90824986  11.00297356\n",
      "   7.40629196   7.58736229]\n",
      "1840 test loss: 64.2738\n",
      "1850 training loss: 45.2842 (lr:0.0008)\n",
      "1860 training loss: 51.2383 (lr:0.0008)\n",
      "[  6.37420225  11.39954948  12.98531246   9.28757     10.24316978\n",
      "   6.78133249   7.37962389]\n",
      "1860 test loss: 57.401\n",
      "1870 training loss: 45.8246 (lr:0.0008)\n",
      "1880 training loss: 33.1852 (lr:0.0008)\n",
      "[  6.63981771  12.13017845  14.50725842   9.88456821  10.61905289\n",
      "   7.0482769    7.19692278]\n",
      "1880 test loss: 65.2184\n",
      "1890 training loss: 72.0455 (lr:0.0008)\n",
      "1900 training loss: 64.0631 (lr:0.0008)\n",
      "[  6.91016054  11.32961273  14.19404507   9.85136318  11.06266212\n",
      "   7.00918579   7.35329485]\n",
      "1900 test loss: 64.7945\n",
      "1910 training loss: 84.0915 (lr:0.0008)\n",
      "1920 training loss: 61.4726 (lr:0.0008)\n",
      "[  6.92355347  11.52291393  13.60791111   9.67111969  10.98458767\n",
      "   7.5806303    7.77672243]\n",
      "1920 test loss: 64.1013\n",
      "1930 training loss: 58.9347 (lr:0.0008)\n",
      "1940 training loss: 97.7316 (lr:0.0008)\n",
      "[  6.3789978   11.84365749  14.10635757   9.86440754  11.17119503\n",
      "   7.10572338   7.56031179]\n",
      "1940 test loss: 64.6502\n",
      "1950 training loss: 82.9554 (lr:0.0008)\n",
      "1960 training loss: 54.7693 (lr:0.0008)\n",
      "[  6.60964918  11.23177147  13.90235138   8.78195953  10.21796036\n",
      "   6.64341354   7.28369188]\n",
      "1960 test loss: 59.6053\n",
      "1970 training loss: 48.3765 (lr:0.0008)\n",
      "1980 training loss: 79.8396 (lr:0.0008)\n",
      "[  6.9143815   11.40967274  13.97697639   9.54955769  10.54336071\n",
      "   7.07991171   7.38323927]\n",
      "1980 test loss: 63.1834\n",
      "1990 training loss: 52.313 (lr:0.0008)\n",
      "2000 training loss: 74.5588 (lr:0.0008)\n",
      "[  6.64183617  12.0960722   14.68764496   9.68848228  11.16168118\n",
      "   7.05583572   7.34215403]\n",
      "2000 test loss: 65.968\n",
      "2010 training loss: 65.3412 (lr:0.0008)\n",
      "2020 training loss: 78.5885 (lr:0.0008)\n",
      "[  6.45335531  11.75696182  13.76008987   9.88646984  10.60760212\n",
      "   6.96587324   7.10631084]\n",
      "2020 test loss: 62.7403\n",
      "2030 training loss: 49.8694 (lr:0.0008)\n",
      "2040 training loss: 58.0612 (lr:0.0008)\n",
      "[  6.82007885  12.32683182  14.47737694  10.31207848  11.27616119\n",
      "   7.07967234   7.44856071]\n",
      "2040 test loss: 66.9149\n",
      "2050 training loss: 63.6184 (lr:0.0008)\n",
      "2060 training loss: 52.0719 (lr:0.0008)\n",
      "[  7.01139641  11.47291374  13.30775738   9.56276226  10.57085896\n",
      "   7.34239435   7.46272469]\n",
      "2060 test loss: 62.7314\n",
      "2070 training loss: 53.4601 (lr:0.0008)\n",
      "2080 training loss: 36.584 (lr:0.0008)\n",
      "[  6.79284906  11.9003458   14.04871559   9.7899847   10.40981579\n",
      "   6.94458199   6.99076796]\n",
      "2080 test loss: 64.1251\n",
      "2090 training loss: 52.3518 (lr:0.0008)\n",
      "2100 training loss: 28.3303 (lr:0.0008)\n",
      "[  6.69111824  11.28744411  14.15146351   9.55058956  10.35148907\n",
      "   6.90109015   7.12244606]\n",
      "2100 test loss: 61.6156\n",
      "2110 training loss: 66.5051 (lr:0.0008)\n",
      "2120 training loss: 40.5015 (lr:0.0008)\n",
      "[  6.66597033  11.83886814  14.12252712   9.77015972  10.91166019\n",
      "   7.19408607   7.60615826]\n",
      "2120 test loss: 65.067\n",
      "2130 training loss: 70.5841 (lr:0.0008)\n",
      "2140 training loss: 67.912 (lr:0.0008)\n",
      "[  6.64821577  11.63608551  13.99896336   9.40103912  10.53827477\n",
      "   7.12010479   7.45794106]\n",
      "2140 test loss: 63.5869\n",
      "2150 training loss: 57.7383 (lr:0.0008)\n",
      "2160 training loss: 89.2285 (lr:0.0008)\n",
      "[  6.88901615  11.86420918  14.28091717   9.95123863  10.88512802\n",
      "   7.2087822    7.52453375]\n",
      "2160 test loss: 66.3421\n",
      "2170 training loss: 58.1792 (lr:0.0008)\n",
      "2180 training loss: 34.1303 (lr:0.0008)\n",
      "[  6.94742107  11.49800396  14.24179173   9.95840168  10.92118073\n",
      "   7.31783915   7.61961317]\n",
      "2180 test loss: 65.3873\n",
      "2190 training loss: 35.3069 (lr:0.0008)\n",
      "2200 training loss: 52.8941 (lr:0.0008)\n",
      "[  6.66167307  11.78436756  13.50317287   9.54444408  10.27228069\n",
      "   6.82907677   7.05286455]\n",
      "2200 test loss: 61.8468\n",
      "2210 training loss: 40.8149 (lr:0.0008)\n",
      "2220 training loss: 58.2075 (lr:0.0008)\n",
      "[  6.97813463  12.14836025  14.46126461  10.42058086  11.17265034\n",
      "   7.40468073   7.49326181]\n",
      "2220 test loss: 69.1261\n",
      "2230 training loss: 50.446 (lr:0.0008)\n",
      "2240 training loss: 52.812 (lr:0.0008)\n",
      "[  6.5421977   12.19469929  14.13964462   9.73685837  10.45075798\n",
      "   7.03656626   7.2392149 ]\n",
      "2240 test loss: 64.4159\n",
      "2250 training loss: 62.1192 (lr:0.0008)\n",
      "2260 training loss: 86.2014 (lr:0.0008)\n",
      "[  6.6791954   11.24256134  13.7438755    9.62757301  10.28730106\n",
      "   7.15714455   7.24243641]\n",
      "2260 test loss: 61.3343\n",
      "2270 training loss: 89.1262 (lr:0.0008)\n",
      "2280 training loss: 58.7885 (lr:0.0008)\n",
      "[  7.21931076  11.59421921  14.33134842  10.44683838  11.49708652\n",
      "   7.52720881   7.73644876]\n",
      "2280 test loss: 69.118\n",
      "2290 training loss: 56.7174 (lr:0.0008)\n",
      "2300 training loss: 77.9585 (lr:0.0008)\n",
      "[  6.65716267  11.55745506  14.08187389   9.16179752  10.35257339\n",
      "   6.36953115   6.82804251]\n",
      "2300 test loss: 60.4007\n",
      "2310 training loss: 52.0092 (lr:0.0008)\n",
      "2320 training loss: 33.2895 (lr:0.0008)\n",
      "[  6.87765551  11.82862091  14.08166218   9.76613045  11.00928593\n",
      "   7.1569972    7.42341566]\n",
      "2320 test loss: 65.556\n",
      "2330 training loss: 47.2837 (lr:0.0008)\n",
      "2340 training loss: 101.325 (lr:0.0008)\n",
      "[  6.83883429  11.40877819  14.06582355   9.47229099  10.56239891\n",
      "   6.79667473   7.19557428]\n",
      "2340 test loss: 62.1988\n",
      "2350 training loss: 48.6033 (lr:0.0008)\n",
      "2360 training loss: 39.8614 (lr:0.0008)\n",
      "[  6.8293705   11.59939575  13.85677242   9.59950447  10.95178604\n",
      "   7.16249371   7.39592791]\n",
      "2360 test loss: 64.1827\n",
      "2370 training loss: 60.4786 (lr:0.0008)\n",
      "2380 training loss: 44.4262 (lr:0.0008)\n",
      "[  7.25344563  11.13366222  13.29971886   9.77734756  10.58246136\n",
      "   7.55457115   7.81021309]\n",
      "2380 test loss: 62.5237\n",
      "2390 training loss: 36.5493 (lr:0.0008)\n",
      "2400 training loss: 49.929 (lr:0.0008)\n",
      "[  6.68774843  11.88580322  14.0234375   10.04992104  10.98492718\n",
      "   7.15517139   7.23347235]\n",
      "2400 test loss: 64.5569\n",
      "2410 training loss: 36.178 (lr:0.0008)\n",
      "2420 training loss: 57.6632 (lr:0.0008)\n",
      "[  6.54750538  11.13725567  14.42325687   9.83076763  11.13291168\n",
      "   6.89029551   7.17662096]\n",
      "2420 test loss: 63.6983\n",
      "2430 training loss: 47.2967 (lr:0.0008)\n",
      "2440 training loss: 59.4436 (lr:0.0008)\n",
      "[  7.0374012   11.6807642   13.94819355  10.04960442  10.85631752\n",
      "   7.37215376   7.54148006]\n",
      "2440 test loss: 65.7712\n",
      "2450 training loss: 58.5567 (lr:0.0008)\n",
      "2460 training loss: 46.2706 (lr:0.0008)\n",
      "[  6.80515814  11.52117538  14.07852745   9.88173199  10.85550785\n",
      "   7.28687143   7.44463968]\n",
      "2460 test loss: 64.3429\n",
      "2470 training loss: 58.3522 (lr:0.0008)\n",
      "2480 training loss: 64.4529 (lr:0.0008)\n",
      "[  6.82001209  12.31632614  14.70834923   9.7596035   10.915205\n",
      "   7.13348389   7.2221508 ]\n",
      "2480 test loss: 67.7099\n",
      "2490 training loss: 42.7655 (lr:0.0008)\n"
     ]
    }
   ],
   "source": [
    "#Get the relevant nodes and errors\n",
    "import math\n",
    "import numpy as np\n",
    "\n",
    "tf.get_collection(\"validation_nodes\")\n",
    "# Add stuff to the collection.\n",
    "tf.add_to_collection(\"validation_nodes\", X)\n",
    "tf.add_to_collection(\"validation_nodes\", Y_)\n",
    "tf.add_to_collection(\"validation_nodes\", final_output)\n",
    "\n",
    "init = tf.global_variables_initializer()\n",
    "sess = tf.Session()\n",
    "sess.run(init)\n",
    "training_epochs = 2500\n",
    "learning_rate = 0.0008 \n",
    "\n",
    "#Get training error and losses\n",
    "training_error = []\n",
    "testing_error = []\n",
    "training_loss = []\n",
    "testing_loss = []\n",
    "training_joint_distance = []\n",
    "testing_joint_distance = []\n",
    "\n",
    "for i in range(training_epochs):\n",
    "    indices = np.random.randint(train_data.shape[0], size = 4)\n",
    "    batch_X = train_data[indices]\n",
    "    batch_Y = train_label[indices]\n",
    "    \n",
    "    test_indices = np.random.randint(test_data.shape[0],size = 100)\n",
    "    test_batch_X = test_data[test_indices]\n",
    "    test_batch_Y = test_label[test_indices]\n",
    "\n",
    "    # compute training values\n",
    "    if i % 10 == 0:\n",
    "        '''\n",
    "        When we sess.run here, we are calculating the accuracy and cross_entropy of the model on batch_X and batch_Y (ie. on 100 pieces of data)\n",
    "        '''\n",
    "        train_l, train_d = sess.run([mean_squared_loss, average_distance], {X: batch_X, Y_: batch_Y})\n",
    "        #temp = sess.run([correct_prediction], feed_dict={X: batch_X, Y_: batch_Y})\n",
    "        print(str(i) + \" training loss: \" + str(train_l) + \" (lr:\" + str(learning_rate) + \")\")\n",
    "        #training_error.append(train_l)\n",
    "        training_loss.append(train_l)\n",
    "        training_joint_distance.append(train_d)\n",
    " \n",
    "    # compute test values\n",
    "    if i % 20 == 0:\n",
    "        '''\n",
    "        When we sess.run here, we are calculating the accuracy and cross_entropy of the model on all of the data\n",
    "        '''\n",
    "        test_l, test_d = sess.run([mean_squared_loss, average_distance], {X: test_batch_X, Y_: test_batch_Y})\n",
    "        print(test_d)\n",
    "        print(str(i) + \" test loss: \" + str(test_l))\n",
    "        #testing_error.append(1 - a)\n",
    "        testing_loss.append(test_l)\n",
    "        testing_joint_distance.append(list(test_d))\n",
    "        \n",
    "    # the backpropagation training step\n",
    "    sess.run(train_step, {X: batch_X, Y_: batch_Y, lr: learning_rate})\n",
    "\n",
    "    if i % 1000 == 0:\n",
    "        saver = tf.train.Saver()\n",
    "        save_path = saver.save(sess, \"/Users/khanh94/Downloads/my_model_\" + str(i))"
   ]
  },
  {
   "cell_type": "code",
   "execution_count": 56,
   "metadata": {},
   "outputs": [],
   "source": [
    "#Plotting the training and testing losses\n",
    "plt.subplot(2,1,1)\n",
    "plt.plot(training_loss, '-o', label='Training_Loss')\n",
    "plt.title('Training Loss')\n",
    "plt.xlabel('Epoch')\n",
    "plt.ylabel('Loss')\n",
    "plt.legend(ncol=2, loc='upper right')\n",
    "plt.subplot(2,1,2)\n",
    "plt.plot(testing_loss, '-o', label='Testing_Loss')\n",
    "plt.title('Testing Loss')\n",
    "plt.xlabel('Epoch')\n",
    "plt.ylabel('Loss')\n",
    "plt.legend(ncol=2, loc='lower right')\n",
    "plt.gcf().set_size_inches(10, 10)\n",
    "plt.savefig('Training_and_testing_loss.png')"
   ]
  },
  {
   "cell_type": "code",
   "execution_count": 57,
   "metadata": {},
   "outputs": [
    {
     "data": {
      "image/png": "[encoded data removed]",
      "text/plain": [
       "<matplotlib.figure.Figure at 0x18e218f588>"
      ]
     },
     "metadata": {},
     "output_type": "display_data"
    }
   ],
   "source": [
    "plt.show()"
   ]
  }
 ],
 "metadata": {
  "kernelspec": {
   "display_name": "Python 3",
   "language": "python",
   "name": "python3"
  },
  "language_info": {
   "codemirror_mode": {
    "name": "ipython",
    "version": 3
   },
   "file_extension": ".py",
   "mimetype": "text/x-python",
   "name": "python",
   "nbconvert_exporter": "python",
   "pygments_lexer": "ipython3",
   "version": "3.5.5"
  }
 },
 "nbformat": 4,
 "nbformat_minor": 2
}
